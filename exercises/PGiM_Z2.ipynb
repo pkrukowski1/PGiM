{
 "cells": [
  {
   "cell_type": "markdown",
   "metadata": {},
   "source": [
    "# Przetwarzanie Grafiki i Muzyki - laboratorium nr 2"
   ]
  },
  {
   "cell_type": "code",
   "execution_count": 1,
   "metadata": {
    "collapsed": true,
    "ExecuteTime": {
     "end_time": "2024-03-09T15:27:56.914898Z",
     "start_time": "2024-03-09T15:27:56.560573Z"
    }
   },
   "outputs": [],
   "source": [
    "import math\n",
    "\n",
    "import cv2\n",
    "import numpy as np\n",
    "import matplotlib.pyplot as plt\n",
    "\n",
    "# face recognition: https://opencv-tutorial.readthedocs.io/en/latest/face/face.html\n",
    "\n",
    "%matplotlib inline"
   ]
  },
  {
   "cell_type": "markdown",
   "metadata": {},
   "source": [
    "## Zadanie 1 (1 punkt)\n",
    "Proszę zmienić kolor 100 wybranym pikselom na obrazie LENA_512."
   ]
  },
  {
   "cell_type": "code",
   "execution_count": 6,
   "metadata": {
    "collapsed": false,
    "ExecuteTime": {
     "end_time": "2024-03-08T23:14:56.168437Z",
     "start_time": "2024-03-08T23:14:56.092606Z"
    }
   },
   "outputs": [],
   "source": [
    "lena = cv2.imread(\"./img/LENA_512.jpg\", cv2.IMREAD_COLOR)\n",
    "height, width, channels = lena.shape\n",
    "\n",
    "# lena[300:400,300:400] = (0,0,0)\n",
    "\n",
    "for i in range(100):\n",
    "    lena[100, i, 0] = 0\n",
    "    lena[100, i, 1] = 0\n",
    "    lena[100, i, 2] = 0\n",
    "    \n",
    "cv2.imshow(\"lena\", lena)\n",
    "\n",
    "cv2.waitKey(50)\n",
    "cv2.destroyAllWindows()"
   ]
  },
  {
   "cell_type": "markdown",
   "metadata": {},
   "source": [
    "## Zadanie 2 (1 punkt)\n",
    "Proszę wyświetlić obraz LENA_512 w odcieniach szarości."
   ]
  },
  {
   "cell_type": "code",
   "execution_count": 7,
   "metadata": {
    "collapsed": false,
    "ExecuteTime": {
     "end_time": "2024-03-08T23:15:26.852209Z",
     "start_time": "2024-03-08T23:15:26.775927Z"
    }
   },
   "outputs": [],
   "source": [
    "lena = cv2.imread(\"./img/LENA_512.jpg\", cv2.IMREAD_GRAYSCALE)\n",
    "cv2.imshow(\"lena\", lena)\n",
    "\n",
    "cv2.waitKey(50)\n",
    "cv2.destroyAllWindows()"
   ]
  },
  {
   "cell_type": "markdown",
   "metadata": {},
   "source": [
    "## Zadanie 3 (1 punkt)\n",
    "Proszę wyświetlić obraz LENA_512 w odcianiach szarości, uśredniając kolory bez użycia funkcji cv2.COLOR_GRAY2RGB.\n",
    "\n",
    "Aby wykonać to zadanie, można policzyć zwykłą średnią arytmetyczną po wartościach pikseli per kanał. Ale aby uzyskać obraz w odcieniach szarości, który będzie lepiej odpowiadał ludzkiej percepcji, można użyć średniej ważonej:\n",
    "\n",
    "$$\n",
    "Y = 0.299 \\cdot R + 0.587 \\cdot G + 0.114 \\cdot B,\n",
    "$$\n",
    "gdzie:\n",
    "* Y - luminancja,\n",
    "* R - \"czerwona\" składowa danego piksela,\n",
    "* G - \"zielona\" składowa danego piksela,\n",
    "* B - \"niebieska\" składowa danego piksela."
   ]
  },
  {
   "cell_type": "code",
   "execution_count": 33,
   "metadata": {
    "collapsed": false,
    "ExecuteTime": {
     "end_time": "2024-03-09T15:13:04.350579Z",
     "start_time": "2024-03-09T15:13:03.562840Z"
    }
   },
   "outputs": [],
   "source": [
    "lena = cv2.imread(\"./img/LENA_512.jpg\")\n",
    "height, width, channels = lena.shape\n",
    "\n",
    "# https://docs.opencv.org/3.4/de/d25/imgproc_color_conversions.html\n",
    "\n",
    "# order of colors is BGR, not RGB\n",
    "# https://note.nkmk.me/en/python-opencv-imread-imwrite/\n",
    "# to check that, change 13th line to:\n",
    "# lena[i, j, (0, 1)] = 0  # changes blue and green channel to 0, leaves image red\n",
    "\n",
    "for i in range(height):\n",
    "    for j in range(width):\n",
    "        lena[i, j] = lena[i, j, 2] * 0.299 + lena[i, j, 1] * 0.587 + lena[i, j, 0] * 0.114\n",
    "\n",
    "cv2.imshow(\"lena\", lena)\n",
    "\n",
    "cv2.waitKey(50)\n",
    "cv2.destroyAllWindows()"
   ]
  },
  {
   "cell_type": "markdown",
   "metadata": {},
   "source": [
    "## Zadanie 4 (1 punkt)\n",
    "Proszę wyświetlić obrazek: LENA_512 oraz Statek_640_505\tjako negatyw (chodzi o model kolorów CMY).\n",
    "\n",
    "Załóżmy, że dla każdego kanału wartości pikseli to liczby całkowite z przedziału $0-255$. Wówczas negatyw możemy otrzymać poprzez następujące przekształcenia:\n",
    "\n",
    "* $B' = 255 - B,$\n",
    "* $G' = 255 - G,$\n",
    "* $R' = 255 - R,$\n",
    "\n",
    "gdzie\n",
    "* R, G, B - wartości składowych danego piksela w modelu RGB,\n",
    "* R', G', B' - wartości składowych danego piksela w modelu CMY."
   ]
  },
  {
   "cell_type": "code",
   "execution_count": 28,
   "metadata": {
    "collapsed": false,
    "ExecuteTime": {
     "end_time": "2024-03-09T13:35:39.201445Z",
     "start_time": "2024-03-09T13:35:39.124588Z"
    }
   },
   "outputs": [],
   "source": [
    "def into_negative(image_path: str, name: str):\n",
    "    image = cv2.imread(image_path)\n",
    "    image = 255 - image\n",
    "    cv2.imshow(name, image)\n",
    "    cv2.waitKey(50)\n",
    "\n",
    "into_negative(\"./img/LENA_512.jpg\", \"lena\")\n",
    "into_negative(\"./img/statek_640_505.jpg\", \"statek\")\n",
    "\n",
    "cv2.destroyAllWindows()"
   ]
  },
  {
   "cell_type": "markdown",
   "metadata": {},
   "source": [
    "## Zadanie 5 (1 punkt)\n",
    "\n",
    "Proszę wyświetlić obrazy: LENA_512 oraz Statek_640_505 jako sepię, stosując następujące przekształcenia:\n",
    "\n",
    " * $B' = \\min(255, (R \\cdot 0.272) + (G \\cdot 0.534) + (G \\cdot 0.131)),$\n",
    " * $G' = \\min(255, (R \\cdot 0.349) + (G \\cdot 0.686) + (B \\cdot 0.168)),$\n",
    " * $R' = \\min(255, (R \\cdot 0.393) + (G \\cdot 0.769) + (G \\cdot 0.189)),$\n",
    "\n",
    " gdzie $R,B,G$ to wartości składowych danego piksela w modelu RGB."
   ]
  },
  {
   "cell_type": "code",
   "execution_count": 8,
   "metadata": {
    "collapsed": false,
    "ExecuteTime": {
     "end_time": "2024-03-09T15:55:03.008763Z",
     "start_time": "2024-03-09T15:55:02.915249Z"
    }
   },
   "outputs": [],
   "source": [
    "# problem description wrong, should be R, G, B in multiplications always, not R, G, G\n",
    "\n",
    "def into_sepia(image_path: str, name: str):\n",
    "    image = cv2.imread(image_path)\n",
    "    sepia_filter = np.array([[0.272, 0.534, 0.131],\n",
    "                             [0.349, 0.686, 0.168],\n",
    "                             [0.393, 0.769, 0.189]])\n",
    "    image = cv2.transform(image, sepia_filter)\n",
    "    cv2.imshow(name, image)\n",
    "    cv2.waitKey(50)\n",
    "\n",
    "into_sepia(\"./img/LENA_512.jpg\", \"lena\")\n",
    "into_sepia(\"./img/statek_640_505.jpg\", \"statek\")\n",
    "\n",
    "cv2.destroyAllWindows()"
   ]
  },
  {
   "cell_type": "markdown",
   "metadata": {},
   "source": [
    "## Zadanie 6 (3 punkty)\n",
    "Proszę wyświetlić obraz LENA_512 obrócony o kąt $30$, $45$, $90$ stopni zgodnie ze wzorem:\n",
    "$$\n",
    "x' = x \\cos(\\theta) -y \\sin(\\theta)\n",
    "$$\n",
    "$$\n",
    "y'= x sin(\\theta) + y cos(\\theta)\n",
    "$$"
   ]
  },
  {
   "cell_type": "code",
   "execution_count": 25,
   "metadata": {
    "collapsed": false,
    "ExecuteTime": {
     "end_time": "2024-03-09T21:54:12.201092Z",
     "start_time": "2024-03-09T21:54:12.096077Z"
    }
   },
   "outputs": [],
   "source": [
    "# https://pyimagesearch.com/2021/02/03/opencv-image-translation/\n",
    "# https://pyimagesearch.com/2021/01/20/opencv-rotate-image/\n",
    "# https://docs.opencv.org/4.x/da/d6e/tutorial_py_geometric_transformations.html\n",
    "\n",
    "def angled_image(angle: float):\n",
    "    image = cv2.imread(\"./img/LENA_512.jpg\")\n",
    "    # makes more sense to return (height, width, _) as a logical representation of a multidimensional array \n",
    "    height, width, _ = image.shape\n",
    "    # width, height as a point (x, y), not (y, x)\n",
    "    center = (width // 2, height // 2)\n",
    "    rotation_matrix = cv2.getRotationMatrix2D(center, angle, 1)\n",
    "    \n",
    "    # why (width, height) suddenly, when img.shape returns (height, width, _)?\n",
    "    # i guess (x, y)\n",
    "    # the third parameter is for the output image size\n",
    "    # so if the image's bounds are outside the original, you need to specify bigger (width, height) arguments\n",
    "    rotated_image = cv2.warpAffine(image, rotation_matrix, (width, height))\n",
    "    \n",
    "    cv2.imshow(f\"lena_angle_{angle}\", rotated_image)\n",
    "    cv2.waitKey(50)\n",
    "\n",
    "    \n",
    "angled_image(30)\n",
    "angled_image(45)\n",
    "angled_image(90)\n",
    "\n",
    "cv2.destroyAllWindows()"
   ]
  },
  {
   "cell_type": "markdown",
   "metadata": {},
   "source": [
    "## Zadanie 7 (2 punkty)\n",
    "Proszę wyświetlić przesunięty obraz LENA_512."
   ]
  },
  {
   "cell_type": "code",
   "execution_count": 29,
   "metadata": {
    "collapsed": false,
    "ExecuteTime": {
     "end_time": "2024-03-09T22:34:35.924197Z",
     "start_time": "2024-03-09T22:34:35.845386Z"
    }
   },
   "outputs": [],
   "source": [
    "# https://subscription.packtpub.com/book/data/9781785283932/1/ch01lvl1sec11/image-translation\n",
    "# more in-depth: https://datahacker.rs/003-how-to-resize-translate-flip-and-rotate-an-image-with-opencv/\n",
    "# general transformations: https://analyticsindiamag.com/complete-tutorial-on-image-transformations-with-opencv/\n",
    "\n",
    "def shift_image(x_pixels: int, y_pixels: int):\n",
    "    # uses this - https://stackoverflow.com/questions/58107625/opencv-translate-image-wrap-pixels-around-edges-c\n",
    "    image = cv2.imread(\"./img/LENA_512.jpg\")\n",
    "    shifted_image = np.roll(image, (x_pixels, y_pixels), (1, 0))\n",
    "    cv2.imshow(f\"lena_shifted_x-{x_pixels}_y-{y_pixels}\", shifted_image)\n",
    "    cv2.waitKey(50)\n",
    "    \n",
    "shift_image(200, 0)\n",
    "\n",
    "cv2.destroyAllWindows()"
   ]
  },
  {
   "cell_type": "code",
   "execution_count": null,
   "outputs": [],
   "source": [],
   "metadata": {
    "collapsed": false
   }
  }
 ],
 "metadata": {
  "kernelspec": {
   "display_name": "Python 3",
   "language": "python",
   "name": "python3"
  },
  "language_info": {
   "codemirror_mode": {
    "name": "ipython",
    "version": 3
   },
   "file_extension": ".py",
   "mimetype": "text/x-python",
   "name": "python",
   "nbconvert_exporter": "python",
   "pygments_lexer": "ipython3",
   "version": "3.10.13"
  }
 },
 "nbformat": 4,
 "nbformat_minor": 0
}
