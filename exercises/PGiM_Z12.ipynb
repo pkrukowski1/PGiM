{
 "cells": [
  {
   "cell_type": "markdown",
   "metadata": {},
   "source": [
    "# Przetwarzanie Grafiki i Muzyki - laboratorium nr 12"
   ]
  },
  {
   "cell_type": "markdown",
   "metadata": {},
   "source": [
    "## Zadanie 1 (2 punkty)\n",
    "\n",
    "W zadaniu tym będziemy rozważać sygnały w postaci $g\\left(t\\right) = A\\cdot \\sin\\left( 2\\pi\\cdot f \\cdot t + \\phi \\right)$,\n",
    "gdzie $A>0$ jest amplitudą sygnału, $f$ jest częstotliwością, a $\\phi$ jest przesunięciem fazowym. Ponadto rozważać będziemy $t\\in [0,1]$. Proszę wygenerować dziedzinę czasu jako\n",
    "```\n",
    "t = np.linspace(0, 1, 0.001)\n",
    "```\n",
    "Ujednolicenie dziedziny czasu będzie przydatne w zadaniu nr 3, kiedy będziemy musieli analizować PSD. Następnie:\n",
    "  * Wygeneruj i narysuj sygnał o:\n",
    "    * amplitudzie jeden (A = 1),\n",
    "    * zerowym przesunięciu w fazie (phi = 0),\n",
    "    * częstotliwości 25 Hz.\n",
    "  * Wygeneruj i narysuj sygnał o:\n",
    "    * amplitudzie jeden (A = 1),\n",
    "    * zerowym przesunięciu w fazie (phi = 0),\n",
    "    * częstotliwości 40 Hz.\n",
    "  * Wygeneruj i narysuj sygnał będący sumą powyższych."
   ]
  },
  {
   "cell_type": "code",
   "execution_count": null,
   "metadata": {
    "collapsed": true
   },
   "outputs": [],
   "source": []
  },
  {
   "cell_type": "markdown",
   "metadata": {},
   "source": [
    "## Zadanie 2 (4 punkty)\n",
    "Proszę wziąć sumę sygnałów z poprzedniego zadania, a następnie:\n",
    "* Dokonać na niej FFT (Fast Fourier Transform) i narysować wykres w dziedzinie częstotliwości (proszę pamiętać, że FFT może mieć wartości zespolone, stąd potrzeba wzięcia modułu). (2 punkty)\n",
    "* Dokonać IFFT (Inverse Fast Fourier Transorm) na sygnale przekształconym przez FFT i porównać oryginalny sygnał (przed FFT) z sygnałem otrzymanym po zaaplikowaniu IFFT. (2 punkty)"
   ]
  },
  {
   "cell_type": "code",
   "execution_count": null,
   "metadata": {
    "collapsed": true
   },
   "outputs": [],
   "source": []
  },
  {
   "cell_type": "markdown",
   "metadata": {},
   "source": [
    "## Zadanie 3 (4 punkty)\n",
    "\n",
    "Proszę wziąć sygnał z pierwszego zadania i dodać do niego szum gaussowski $\\mathcal{N}\\left(0,1\\right)$, a następnie:\n",
    "1) Dokonaj FFT na tym sygnale. (1 punkt)\n",
    "2) Porównaj wykres transformaty Fouriera (z szumem Gaussa) z transformatą Fouriera sygnału niezaszumionego. Wystarczy narysować te dwa wykresy obok siebie. (1 punkt)\n",
    "3) Prostym progowaniem usuń szum z transformaty Fouriera - w tym celu proszę przenalizować PSD (Power Spectral Density) i wybrać sensowny próg (uzasadnić wybór!), a następnie wyznaczyć nowe współczynniki, korzystając ze wzoru:\n",
    "$$\n",
    "\\hat{f}\\left(\\omega_k\\right) = \\begin{cases}\n",
    "                                0, & PSD\\left(\\omega_k\\right) \\leq T ,  \\\\\n",
    "                                \\hat{f}\\left(\\omega_k\\right), & PSD\\left(\\omega_k\\right) > T.\n",
    "                            \\end{cases}\n",
    "$$ (1 punkt)\n",
    "4) Dokonaj IFFT, uwzględniając współczynniki z punktu nr 3, i policz MSE pomiędzy sygnałem oryginalnym a sygnałem odszumionym. (1 punkt)\n",
    "\n",
    "HINT:\n",
    "$$\n",
    "PSD\\left(\\omega_k\\right) = \\frac{|\\hat{f}\\left(\\omega_k\\right)|^2}{n},\n",
    "$$\n",
    "gdzie $\\hat{f}\\left(\\omega_k\\right) = \\sum_{j=0}^{n-1}f_j\\cdot e^{-i\\cdot 2\\pi j \\omega_k}$, $i$ jest jednostką urojoną, $f_j$ to $j$-ta wartość wygnału, a $n$ jest liczbą próbek. Z racji tego, że dziedzina czasu $t$ została wygenerowana jako ```t = np.linspace(0, 1, 0.001)```, to $\\omega_k = \\frac{k}{0.001\\cdot n}$, gdzie $k\\in\\lbrace 0, 1, \\ldots, n-1\\rbrace$."
   ]
  },
  {
   "cell_type": "code",
   "execution_count": null,
   "metadata": {
    "collapsed": true
   },
   "outputs": [],
   "source": []
  }
 ],
 "metadata": {
  "kernelspec": {
   "display_name": "Python 3",
   "language": "python",
   "name": "python3"
  },
  "language_info": {
   "codemirror_mode": {
    "name": "ipython",
    "version": 3
   },
   "file_extension": ".py",
   "mimetype": "text/x-python",
   "name": "python",
   "nbconvert_exporter": "python",
   "pygments_lexer": "ipython3",
   "version": "3.5.4"
  }
 },
 "nbformat": 4,
 "nbformat_minor": 2
}
