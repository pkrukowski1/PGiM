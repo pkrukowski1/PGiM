{
 "cells": [
  {
   "cell_type": "markdown",
   "metadata": {},
   "source": [
    "# Przetwarzanie Grafiki i Muzyki - laboratorium nr 5"
   ]
  },
  {
   "cell_type": "code",
   "execution_count": null,
   "metadata": {},
   "outputs": [],
   "source": [
    "import cv2\n",
    "import numpy as np\n",
    "import matplotlib.pyplot as plt\n",
    "%matplotlib inline"
   ]
  },
  {
   "cell_type": "markdown",
   "metadata": {},
   "source": [
    "## Zadanie 1 (2 punkty)\n",
    "\n",
    "Wygeneruj sygnał w kształcie funkcji sinus. Następnie dodaj do niego szumy:\n",
    "\n",
    "  * Gaussowski: $N\\left(0,0.5^2\\right)$\n",
    "  * Jednostajny: $U\\left(-0.5,0.5\\right)$\n",
    "  * Sól i pieprz\n",
    "  \n",
    "Oraz wykonaj na nich filtry:\n",
    "\n",
    "  * Średniej ruchomej\n",
    "  * Medianowy\n",
    "\n",
    "Wygeneruj 3 zestawy rysunków - na każdym z nich przedstaw wykres sinusa, sinusa z dodanym szumem oraz zaaplikowanymi filtracjami. Napisz, które filtry radzą sobie dobrze z podanymi typami zakłóceń. Dodaj legendę."
   ]
  },
  {
   "cell_type": "code",
   "execution_count": null,
   "metadata": {
    "collapsed": true
   },
   "outputs": [],
   "source": []
  },
  {
   "cell_type": "markdown",
   "metadata": {},
   "source": [
    "## Zadanie 2 (2 punkty)\n",
    "\n",
    "Napisz funkcję realizującą dodawanie do obrazka zakłócenia o rozkładzie jednostajnym na odcinku $U\\left(-\\alpha, \\alpha\\right)$ w taki sposób, by liczba wylosowana z tego rozkładu była dodatkowo mnożona przez prawdopodobieństwo wystąpienia tego zjawiska (a właściwie przez maskę 0-1). Proszę przetestować funkcję na obrazie LENA_512 w wersji kolorowej i w odcieniach szarości."
   ]
  },
  {
   "cell_type": "code",
   "execution_count": 3,
   "metadata": {
    "collapsed": true
   },
   "outputs": [],
   "source": []
  },
  {
   "cell_type": "markdown",
   "metadata": {},
   "source": [
    "## Zadanie 3 (2 punkty)\n",
    "\n",
    "Napisz funkcję realizującą dodawanie do obrazka zakłócenia o rozkładzie normalnym $N\\left(\\mu,\\sigma^2\\right)$ w taki sposób, by liczba wylosowana z tego rozkładu była dodatkowo mnożona przez prawdopodobieństwo wystąpienia tego zjawiska (a właściwie przez maskę 0-1). Proszę przetestować funkcję na obrazie LENA_512 w wersji kolorowej i w odcieniach szarości."
   ]
  },
  {
   "cell_type": "code",
   "execution_count": 25,
   "metadata": {
    "collapsed": true
   },
   "outputs": [],
   "source": []
  },
  {
   "cell_type": "markdown",
   "metadata": {},
   "source": [
    "## Zadanie 4 (2 punkty)\n",
    "\n",
    "Napisz funkcję realizującą dodawanie do obrazka zakłócenia typu sól i pieprz w taki sposób, by zakłócenie to było dodatkowo mnożone przez prawdopodobieństwo wystąpienia tego zjawiska (a właściwie przez maskę 0-1). Proszę przetestować funkcję na obrazie LENA_512 w wersji kolorowej i w odcieniach szarości."
   ]
  },
  {
   "cell_type": "code",
   "execution_count": 30,
   "metadata": {
    "collapsed": false
   },
   "outputs": [],
   "source": []
  },
  {
   "cell_type": "markdown",
   "metadata": {
    "collapsed": true
   },
   "source": [
    "## Zadanie 5 (1 punkt)\n",
    "Wykonaj filtrację, używając filtra średniej ruchomej, obrazów zaszumionych powyższymi (trzema) sposobami. Użyj filtracji na obrazie \"LENA_512.jpg\" w formacie RGB na każdej warstwie niezależnie. Ponadto stwierdź (ale nie na oko!), jakość filtracji."
   ]
  },
  {
   "cell_type": "code",
   "execution_count": null,
   "metadata": {
    "collapsed": true
   },
   "outputs": [],
   "source": []
  },
  {
   "cell_type": "markdown",
   "metadata": {},
   "source": [
    "## Zadanie 6 (1 punkt)\n",
    "Wykonaj filtrację, używając filtra medianowego, obrazów zaszumionych powyższymi (trzema) sposobami. Użyj filtracji na obrazie \"LENA_512.jpg\" w formacie RGB na każdej warstwie niezależnie. Ponadto stwierdź (ale nie na oko!), jakość filtracji."
   ]
  },
  {
   "cell_type": "code",
   "execution_count": null,
   "metadata": {
    "collapsed": true
   },
   "outputs": [],
   "source": []
  }
 ],
 "metadata": {
  "kernelspec": {
   "display_name": "Python 3",
   "language": "python",
   "name": "python3"
  },
  "language_info": {
   "codemirror_mode": {
    "name": "ipython",
    "version": 3
   },
   "file_extension": ".py",
   "mimetype": "text/x-python",
   "name": "python",
   "nbconvert_exporter": "python",
   "pygments_lexer": "ipython3",
   "version": "3.6.0"
  }
 },
 "nbformat": 4,
 "nbformat_minor": 2
}
