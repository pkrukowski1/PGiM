{
 "cells": [
  {
   "cell_type": "markdown",
   "metadata": {},
   "source": [
    "# Przetwarzanie Grafiki i Muzyki - laboratorium nr 4"
   ]
  },
  {
   "cell_type": "code",
   "execution_count": 1,
   "metadata": {
    "ExecuteTime": {
     "end_time": "2024-03-24T23:00:53.216792Z",
     "start_time": "2024-03-24T23:00:52.891342Z"
    }
   },
   "outputs": [],
   "source": [
    "import cv2\n",
    "import numpy as np\n",
    "import matplotlib.pyplot as plt\n",
    "%matplotlib inline"
   ]
  },
  {
   "cell_type": "markdown",
   "metadata": {},
   "source": [
    "# Zadanie 1 (1.5 punkta)\n",
    "Proszę zaimplementować (ręcznie) konwersję z formatu RGB na YCbCr (https://en.wikipedia.org/wiki/YCbCr) i przetestować na wybranym przez siebie obrazku. Wzór:\n",
    "\n",
    "$$\n",
    "\\begin{align}\n",
    "Y &= 0.299 \\cdot R + 0.587\\cdot G + 0.114\\cdot B \\\\\n",
    "C_B &= 0.5 -0.169\\cdot R - 0.331 \\cdot G + 0.5\\cdot B \\\\\n",
    "C_R &= 0.5 + 0.5\\cdot R - 0.419\\cdot G - 0.081\\cdot B,\n",
    "\\end{align}\n",
    "$$\n",
    "\n",
    "gdzie $R, G, B \\in [0,1]$."
   ]
  },
  {
   "cell_type": "code",
   "execution_count": 3,
   "metadata": {
    "collapsed": true,
    "ExecuteTime": {
     "end_time": "2024-03-24T22:13:37.633230Z",
     "start_time": "2024-03-24T22:13:37.541300Z"
    }
   },
   "outputs": [],
   "source": [
    "def bgr_to_ycbcr(image):\n",
    "    new_image = np.copy(image).astype(np.float32)\n",
    "    new_image = new_image / 255\n",
    "    \n",
    "    xform = np.array([[.299, .587, .114], [-.169, -.331, .5], [.5, -.419, -.081]])\n",
    "    new_image = new_image.dot(xform.T)\n",
    "    new_image[:,:,[1, 2]] += 0.5\n",
    "\n",
    "    return new_image.astype(np.float32)\n",
    "\n",
    "eagle = cv2.imread(\"./img/eagle.jpg\", cv2.IMREAD_UNCHANGED)\n",
    "cv2.imshow(\"original\", eagle)\n",
    "\n",
    "converted_to_YCbCr = bgr_to_ycbcr(eagle)\n",
    "\n",
    "cv2.imshow(\"YCbCr\", converted_to_YCbCr)\n",
    "\n",
    "ycbcr_eagle = cv2.cvtColor(eagle, cv2.COLOR_BGR2YCrCb)\n",
    "cv2.imshow(\"YCbCr_cv2\", ycbcr_eagle)\n",
    "\n",
    "cv2.waitKey(50)\n",
    "cv2.destroyAllWindows()\n"
   ]
  },
  {
   "cell_type": "markdown",
   "metadata": {
    "collapsed": false
   },
   "source": [
    "## Zadanie 2 (1.5 punkta)\n",
    "\n",
    "Proszę zaimplementować ręcznie konwersję z formatu YCbCr na RGB (https://en.wikipedia.org/wiki/YCbCr). Przetestuj kod na obrazie wynikowym z poprzedniego zadania. Wzór:\n",
    "\n",
    "$$\n",
    "\\begin{align}\n",
    "    R &= Y + 1.402*(C_R - 0.5) \\\\\n",
    "    G &= Y - 0.344*(C_B - 0.5)-0.714*(C_R - 0.5) \\\\\n",
    "    B &= Y + 1.772*(C_B - 0.5)\n",
    "\\end{align}\n",
    "$$\n",
    "\n",
    "gdzie $Y, C_R, C_B \\in [0, 1]$."
   ]
  },
  {
   "cell_type": "code",
   "execution_count": 9,
   "metadata": {
    "ExecuteTime": {
     "end_time": "2024-03-24T22:16:57.670012Z",
     "start_time": "2024-03-24T22:16:57.561644Z"
    }
   },
   "outputs": [],
   "source": [
    "def ycbcr_to_bgr(image):\n",
    "    new_image = np.copy(image).astype(np.float32)\n",
    "    new_image = new_image / 255\n",
    "    \n",
    "    R = new_image[:, :, 0] + 1.402 * (new_image[:, :, 1] - 0.5)\n",
    "    G = new_image[:, :, 0] - 0.344 * (new_image[:, :, 1] - 0.5) - 0.714 * (new_image[:, :, 2] - 0.5)\n",
    "    B = new_image[:, :, 0] + 1.772 * (new_image[:, :, 1] - 0.5)\n",
    "    \n",
    "    new_image = np.dstack((B, G, R))\n",
    "    new_image = new_image * 255\n",
    "    return new_image.astype(np.int8)\n",
    "    \n",
    "eagle = cv2.imread(\"./img/eagle.jpg\", cv2.IMREAD_UNCHANGED)\n",
    "cv2.imshow(\"original\", eagle)\n",
    "\n",
    "converted_to_YCbCr = bgr_to_ycbcr(eagle)\n",
    "cv2.imshow(\"to_ycbcr\", converted_to_YCbCr)\n",
    "\n",
    "back_to_bgr = ycbcr_to_bgr(converted_to_YCbCr)\n",
    "cv2.imshow(\"ycbcr_to_bgr\", back_to_bgr)\n",
    "\n",
    "cv2.waitKey(50)\n",
    "cv2.destroyAllWindows()"
   ]
  },
  {
   "cell_type": "markdown",
   "metadata": {},
   "source": [
    "## Zadanie 3 (1 punkt)\n",
    "Proszę zaimplementować konwersję z formatu RGB na HLS i wyświetlić składowe H, L oraz S. Tutaj można użyć gotowej metody z pakietu OpenCV (cv2.COLOR_BGR2HLS)."
   ]
  },
  {
   "cell_type": "code",
   "execution_count": 52,
   "metadata": {
    "collapsed": true,
    "ExecuteTime": {
     "end_time": "2024-03-18T14:19:19.342331Z",
     "start_time": "2024-03-18T14:19:19.230214Z"
    }
   },
   "outputs": [],
   "source": [
    "eagle = cv2.imread(\"./img/eagle.jpg\", cv2.IMREAD_COLOR)\n",
    "hls_eagle = cv2.cvtColor(eagle, cv2.COLOR_BGR2HLS)\n",
    "hls_separated = np.concatenate((hls_eagle[:, :, 0], hls_eagle[:, :, 1], hls_eagle[:, :, 2]), axis=1)\n",
    "# or \n",
    "# hls_separated = np.hstack((hls_eagle[:, :, 0], hls_eagle[:, :, 1], hls_eagle[:, :, 2]))\n",
    "\n",
    "cv2.imshow(\"eagle\", eagle)\n",
    "cv2.imshow(\"hls_eagle\", hls_eagle)\n",
    "cv2.imshow(\"hls_separated\", hls_separated)\n",
    "\n",
    "cv2.waitKey(50)\n",
    "cv2.destroyAllWindows()"
   ]
  },
  {
   "cell_type": "markdown",
   "metadata": {},
   "source": [
    "## Zadanie 4 (2 punkty)\n",
    "\n",
    "Proszę stworzyć obrazek zawierający tylko zielone papryczki (analogicznie do przykładu z wykładu). Użyj obrazku \"peppers.png\".\n",
    "\n",
    "HINT - zielone papryczki znajdują się tam, gdzie $R\\in [20, 120]$ i $G \\in [20, 160]$. R i G to natężenie składowych koloru w modelu RGB."
   ]
  },
  {
   "cell_type": "code",
   "execution_count": null,
   "metadata": {
    "collapsed": false,
    "is_executing": true
   },
   "outputs": [],
   "source": [
    "def detect_green_peppers(image):\n",
    "    image_with_peppers = np.copy(image)\n",
    "    mask = np.all((image[:,:,1] >= 20, image[:,:,1] <= 160, image[:,:,2] >= 20, image[:,:,2] <= 120), axis=0)\n",
    "    image_with_peppers[~mask] = 0\n",
    "\n",
    "    return image_with_peppers\n",
    "\n",
    "peppers = cv2.imread(\"./img/peppers.png\", cv2.IMREAD_UNCHANGED)\n",
    "cv2.imshow(\"peppers\", peppers)\n",
    "peppers_only = detect_green_peppers(peppers)\n",
    "# without_peppers = detect_green_peppers(peppers)\n",
    "# peppers_only = peppers - without_peppers\n",
    "# \n",
    "cv2.imshow(\"peppers_only\", peppers_only)\n",
    "# cv2.imshow(\"without_peppers\", without_peppers)\n",
    "# cv2.imshow(\"peppers_only\", peppers_only)\n",
    "# \n",
    "cv2.waitKey(50)\n",
    "cv2.destroyAllWindows()"
   ]
  },
  {
   "cell_type": "markdown",
   "metadata": {},
   "source": [
    "## Zadanie 5 (2 punkty)\n",
    "Proszę dokonać detekcji skóry na zdjęciu \"face.jpg\", używając modelu HLS.\n",
    "\n",
    "HINT - skóra znajduje się tam, gdzie spełniona jest następująca reguła:\n",
    "$$\n",
    "\\left(S \\geq 50\\right) \\land \\left(0.5 < \\frac{L}{S} < 3 \\right) \\land \\left( \\left(H \\leq 14\\right) \\lor \\left(H \\geq 165\\right) \\right) \n",
    "$$\n",
    "\n",
    "![alt](https://raw.githubusercontent.com/przem85/PGiM/master/img/face.jpg)"
   ]
  },
  {
   "cell_type": "code",
   "execution_count": 5,
   "metadata": {
    "collapsed": true,
    "ExecuteTime": {
     "end_time": "2024-03-24T23:03:12.768857Z",
     "start_time": "2024-03-24T23:03:12.685603Z"
    }
   },
   "outputs": [
    {
     "name": "stderr",
     "output_type": "stream",
     "text": [
      "/var/folders/6t/lw9p33tn1q124mgvz_z7v9gm0000gn/T/ipykernel_5528/3461351378.py:4: RuntimeWarning: divide by zero encountered in divide\n",
      "  skin_mask = (S >= 50) & (0.5 < L / S) & (L / S < 3) & ((H <= 14) | (H >= 165))\n"
     ]
    }
   ],
   "source": [
    "def detect_face(image):\n",
    "    new_image = cv2.cvtColor(image, cv2.COLOR_BGR2HLS)\n",
    "    H, L, S = cv2.split(new_image)\n",
    "    skin_mask = (S >= 50) & (0.5 < L / S) & (L / S < 3) & ((H <= 14) | (H >= 165))\n",
    "    \n",
    "    # why no work? :(\n",
    "    # new_image[~skin_mask] = [0, 0, 0]\n",
    "    # return new_image\n",
    "    \n",
    "    skin_detection = np.zeros_like(face_img)\n",
    "    skin_detection[skin_mask] = image[skin_mask]\n",
    "    return skin_detection\n",
    "    \n",
    "face_img = cv2.imread(\"./img/face.jpg\", cv2.IMREAD_COLOR)\n",
    "cv2.imshow(\"original\", face_img)\n",
    "\n",
    "detected = detect_face(face_img)\n",
    "cv2.imshow(\"detected\", detected)\n",
    "\n",
    "cv2.waitKey(50)\n",
    "cv2.destroyAllWindows()"
   ]
  },
  {
   "cell_type": "markdown",
   "metadata": {},
   "source": [
    "##  Zadanie 6 (2 punkty)\n",
    "Proszę dokonać detekcję efektu czerwonych oczu na zdjęciu \"face1.jpg\".\n",
    "\n",
    "HINT - czerwone oczy znajdują się tam, gdzie jest spełniona następująca reguła:\n",
    "$$\n",
    "\\left( L \\geq 64 \\right) \\land \\left(S \\geq 100\\right) \\land \\left(0.5 < \\frac{L}{S} < 1.5 \\right) \\land \\left( \\left(H \\leq 7\\right) \\lor \\left(H \\geq 162\\right) \\right) \n",
    "$$\n",
    "\n",
    "![alt](https://raw.githubusercontent.com/przem85/PGiM/master/img/face1.jpg)"
   ]
  },
  {
   "cell_type": "code",
   "execution_count": 8,
   "metadata": {
    "collapsed": true,
    "ExecuteTime": {
     "end_time": "2024-03-24T23:04:47.383505Z",
     "start_time": "2024-03-24T23:04:47.295918Z"
    }
   },
   "outputs": [
    {
     "name": "stderr",
     "output_type": "stream",
     "text": [
      "/var/folders/6t/lw9p33tn1q124mgvz_z7v9gm0000gn/T/ipykernel_5528/1907108049.py:6: RuntimeWarning: divide by zero encountered in divide\n",
      "  red_eye_mask = (L >= 64) & (S >= 100) & (0.5 < L/S) & (L/S < 1.5) & ((H <= 7) | (H >= 162))\n"
     ]
    }
   ],
   "source": [
    "def detect_red_eyes(image):\n",
    "    new_image = cv2.cvtColor(image, cv2.COLOR_BGR2HLS)\n",
    "    # still getting divide by 0 warning?\n",
    "    new_image_proper = np.maximum(new_image, 1)\n",
    "    \n",
    "    H, L, S = cv2.split(new_image)\n",
    "    red_eye_mask = (L >= 64) & (S >= 100) & (0.5 < L/S) & (L/S < 1.5) & ((H <= 7) | (H >= 162))    \n",
    "    \n",
    "    # why no work? :(\n",
    "    # new_image[~red_eye_mask] = [0, 0, 0]\n",
    "    # return new_image\n",
    "    \n",
    "    red_eyes_detection = np.zeros_like(face_img)\n",
    "    red_eyes_detection[red_eye_mask] = image[red_eye_mask]\n",
    "    return red_eyes_detection\n",
    "    \n",
    "face_img = cv2.imread(\"./img/face.jpg\", cv2.IMREAD_COLOR)\n",
    "cv2.imshow(\"original\", face_img)\n",
    "\n",
    "detected = detect_red_eyes(face_img)\n",
    "cv2.imshow(\"detected\", detected)\n",
    "\n",
    "cv2.waitKey(50)\n",
    "cv2.destroyAllWindows()"
   ]
  },
  {
   "cell_type": "code",
   "execution_count": null,
   "outputs": [],
   "source": [],
   "metadata": {
    "collapsed": false
   }
  }
 ],
 "metadata": {
  "kernelspec": {
   "display_name": "Python 3",
   "language": "python",
   "name": "python3"
  },
  "language_info": {
   "codemirror_mode": {
    "name": "ipython",
    "version": 3
   },
   "file_extension": ".py",
   "mimetype": "text/x-python",
   "name": "python",
   "nbconvert_exporter": "python",
   "pygments_lexer": "ipython3",
   "version": "3.6.0"
  }
 },
 "nbformat": 4,
 "nbformat_minor": 2
}
