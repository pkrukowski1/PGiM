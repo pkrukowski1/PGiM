{
 "cells": [
  {
   "cell_type": "markdown",
   "metadata": {},
   "source": [
    "# Przetwarzanie Grafiki i Muzyki - laboratorium nr 4"
   ]
  },
  {
   "cell_type": "code",
   "execution_count": null,
   "metadata": {},
   "outputs": [],
   "source": [
    "import cv2\n",
    "import numpy as np\n",
    "import matplotlib.pyplot as plt\n",
    "%matplotlib inline"
   ]
  },
  {
   "cell_type": "markdown",
   "metadata": {},
   "source": [
    "# Zadanie 1 (1.5 punkta)\n",
    "Proszę zaimplementować (ręcznie) konwersję z formatu RGB na YCbCr (https://en.wikipedia.org/wiki/YCbCr) i przetestować na wybranym przez siebie obrazku. Wzór:\n",
    "\n",
    "$$\n",
    "\\begin{align}\n",
    "Y &= 0.299 \\cdot R + 0.587\\cdot G + 0.114\\cdot B \\\\\n",
    "C_B &= 0.5 -0.169\\cdot R - 0.331 \\cdot G + 0.5\\cdot B \\\\\n",
    "C_R &= 0.5 + 0.5\\cdot R - 0.419\\cdot G - 0.081\\cdot B,\n",
    "\\end{align}\n",
    "$$\n",
    "\n",
    "gdzie $R, G, B \\in [0,1]$."
   ]
  },
  {
   "cell_type": "code",
   "execution_count": null,
   "metadata": {
    "collapsed": true
   },
   "outputs": [],
   "source": []
  },
  {
   "cell_type": "markdown",
   "metadata": {},
   "source": [
    "## Zadanie 2 (1.5 punkta)\n",
    "\n",
    "Proszę zaimplementować ręcznie konwersję z formatu YCbCr na RGB (https://en.wikipedia.org/wiki/YCbCr). Przetestuj kod na obrazie wynikowym z poprzedniego zadania. Wzór:\n",
    "\n",
    "$$\n",
    "\\begin{align}\n",
    "    R &= Y + 1.402*(C_R - 0.5) \\\\\n",
    "    G &= Y - 0.344*(C_B - 0.5)-0.714*(C_R - 0.5) \\\\\n",
    "    B &= Y + 1.772*(C_B - 0.5)\n",
    "\\end{align}\n",
    "$$\n",
    "\n",
    "gdzie $Y, C_R, C_B \\in [0, 1]$."
   ]
  },
  {
   "cell_type": "code",
   "execution_count": null,
   "metadata": {},
   "outputs": [],
   "source": []
  },
  {
   "cell_type": "markdown",
   "metadata": {},
   "source": [
    "## Zadanie 3 (1 punkt)\n",
    "Proszę zaimplementować konwersję z formatu RGB na HLS i wyświetlić składowe H, L oraz S. Tutaj można użyć gotowej metody z pakietu OpenCV (cv2.COLOR_BGR2HLS)."
   ]
  },
  {
   "cell_type": "code",
   "execution_count": 24,
   "metadata": {
    "collapsed": true
   },
   "outputs": [],
   "source": []
  },
  {
   "cell_type": "markdown",
   "metadata": {},
   "source": [
    "## Zadanie 4 (2 punkty)\n",
    "\n",
    "Proszę stworzyć obrazek zawierający tylko zielone papryczki (analogicznie do przykładu z wykładu). Użyj obrazku \"peppers.png\".\n",
    "\n",
    "HINT - zielone papryczki znajdują się tam, gdzie $R\\in [20, 120]$ i $G \\in [20, 160]$. R i G to natężenie składowych koloru w modelu RGB."
   ]
  },
  {
   "cell_type": "code",
   "execution_count": 31,
   "metadata": {
    "collapsed": false
   },
   "outputs": [],
   "source": []
  },
  {
   "cell_type": "markdown",
   "metadata": {},
   "source": [
    "## Zadanie 5 (2 punkty)\n",
    "Proszę dokonać detekcji skóry na zdjęciu \"face.jpg\", używając modelu HLS.\n",
    "\n",
    "HINT - skóra znajduje się tam, gdzie spełniona jest następująca reguła:\n",
    "$$\n",
    "\\left(S \\geq 50\\right) \\land \\left(0.5 < \\frac{L}{S} < 3 \\right) \\land \\left( \\left(H \\leq 14\\right) \\lor \\left(H \\geq 165\\right) \\right) \n",
    "$$\n",
    "\n",
    "![alt](https://raw.githubusercontent.com/przem85/PGiM/master/img/face.jpg)"
   ]
  },
  {
   "cell_type": "code",
   "execution_count": 33,
   "metadata": {
    "collapsed": true
   },
   "outputs": [],
   "source": []
  },
  {
   "cell_type": "markdown",
   "metadata": {},
   "source": [
    "##  Zadanie 6 (2 punkty)\n",
    "Proszę dokonać detekcję efektu czerwonych oczu na zdjęciu \"face1.jpg\".\n",
    "\n",
    "HINT - czerwone oczy znajdują się tam, gdzie jest spełniona następująca reguła:\n",
    "$$\n",
    "\\left( L \\geq 64 \\right) \\land \\left(S \\geq 100\\right) \\land \\left(0.5 < \\frac{L}{S} < 1.5 \\right) \\land \\left( \\left(H \\leq 7\\right) \\lor \\left(H \\geq 162\\right) \\right) \n",
    "$$\n",
    "\n",
    "![alt](https://raw.githubusercontent.com/przem85/PGiM/master/img/face1.jpg)"
   ]
  },
  {
   "cell_type": "code",
   "execution_count": 36,
   "metadata": {
    "collapsed": true
   },
   "outputs": [],
   "source": []
  }
 ],
 "metadata": {
  "kernelspec": {
   "display_name": "Python 3",
   "language": "python",
   "name": "python3"
  },
  "language_info": {
   "codemirror_mode": {
    "name": "ipython",
    "version": 3
   },
   "file_extension": ".py",
   "mimetype": "text/x-python",
   "name": "python",
   "nbconvert_exporter": "python",
   "pygments_lexer": "ipython3",
   "version": "3.6.0"
  }
 },
 "nbformat": 4,
 "nbformat_minor": 2
}
