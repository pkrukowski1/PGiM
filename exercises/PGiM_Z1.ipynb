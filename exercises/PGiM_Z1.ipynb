{
 "cells": [
  {
   "cell_type": "markdown",
   "metadata": {},
   "source": [
    "# Przetwarzanie Grafiki i Muzyki - laboratorium nr 1"
   ]
  },
  {
   "cell_type": "code",
   "execution_count": 1,
   "metadata": {
    "ExecuteTime": {
     "end_time": "2024-02-26T13:13:12.324234Z",
     "start_time": "2024-02-26T13:13:04.270309Z"
    }
   },
   "outputs": [],
   "source": [
    "# Ładujemy potrzebne biblioteki\n",
    "import cv2\n",
    "import numpy as np\n",
    "import matplotlib.pyplot as plt"
   ]
  },
  {
   "cell_type": "markdown",
   "metadata": {},
   "source": [
    "# Krótkie wprowadzenie do OpenCV"
   ]
  },
  {
   "cell_type": "markdown",
   "metadata": {},
   "source": [
    "## Wczytywanie obrazków"
   ]
  },
  {
   "cell_type": "markdown",
   "metadata": {},
   "source": [
    "Służy do tego metoda \n",
    "```python\n",
    "imread(file_name: str, flag: int) -> np.ndarray\n",
    "```\n",
    "\n",
    "Argumenty:\n",
    "1. file_name - nazwa wczytywanego pliku w formacie png lub jpg,\n",
    "\n",
    "2. flag - prosta modyfikacja kanałów wczytywanych obrazków: \n",
    "\n",
    "    - cv2.IMREAD_COLOR - wczytanie obrazka w kolorze,\n",
    "\n",
    "    - cv2.IMREAD_GRAYSCALE - wczytanie obrazka w skali szarości\n",
    "    \n",
    "    - cv2.IMREAD_UNCHANGED - wczytanie obrazka w oryginalnym formacie (jeśli obrazek zapisany jest w kolorze, to wczytamy kolorowy obrazek, a jeśli jest zapisany w skali szarości, to wczytamy obrazek w skali szarości)"
   ]
  },
  {
   "cell_type": "markdown",
   "metadata": {},
   "source": [
    "# Wyświetlanie obrazków"
   ]
  },
  {
   "cell_type": "markdown",
   "metadata": {},
   "source": [
    "Służy do tego metoda\n",
    "```python\n",
    "imshow(title: str, img: np.ndarray) -> None\n",
    "```\n",
    "\n",
    "Argumenty:\n",
    "\n",
    "1. title - nazwa wyświetlonego obrazka\n",
    "\n",
    "2. img - obrazek"
   ]
  },
  {
   "cell_type": "code",
   "execution_count": 3,
   "metadata": {
    "ExecuteTime": {
     "end_time": "2024-02-26T13:14:04.789522Z",
     "start_time": "2024-02-26T13:14:04.757799Z"
    }
   },
   "outputs": [],
   "source": [
    "# Przykład\n",
    "img_boat= cv2.imread(\"./img/statek_640_505.jpg\", cv2.IMREAD_UNCHANGED)\n",
    "\n",
    "cv2.imshow(\"\", img_boat)\n",
    "\n",
    "cv2.waitKey(5000)\n",
    "cv2.destroyAllWindows()"
   ]
  },
  {
   "cell_type": "markdown",
   "metadata": {},
   "source": [
    "Do czego służą metody _waitKey_ oraz _destroyAllWindows_?\n",
    "\n",
    "- _waitKey(n: int)_ - obrazek będzie wyświetlany przez $n$ milisekund lub do czasu wczytania znaku z klawiatury,\n",
    "\n",
    "- _destroyAllWindows(file_name: str)_ - zamknięcie wyświetlanego obrazka w oknie zatytułowanym file_name, parametr ten jest opcjonalny i jeśli nie dostarczymy żadnego parametru, to wszystkie aktualnie wyświetlane okna zostaną zamknięte"
   ]
  },
  {
   "cell_type": "markdown",
   "metadata": {
    "collapsed": false
   },
   "source": [
    "## Zadanie 1. (2 punkty)\n",
    "Proszę zainstalować i skonfigurować OpenCV."
   ]
  },
  {
   "cell_type": "markdown",
   "metadata": {},
   "source": [
    "## Zadanie 2. (8 punktów)\n",
    "Proszę wyświetlić zdjęcie Leny:\n",
    "\n",
    "![alt](https://raw.githubusercontent.com/przem85/PGiM/master/img/LENA_512.jpg)\n",
    "\n",
    "oraz Statek\n",
    "\n",
    "![alt](https://raw.githubusercontent.com/przem85/PGiM/master/img/statek_640_505.jpg)"
   ]
  },
  {
   "cell_type": "code",
   "execution_count": 7,
   "outputs": [],
   "source": [
    "lena = cv2.imread(\"./img/LENA_512.jpg\", cv2.IMREAD_UNCHANGED)\n",
    "statek = cv2.imread(\"./img/statek_640_505.jpg\", cv2.IMREAD_UNCHANGED)\n",
    "\n",
    "cv2.imshow(\"lena\", lena)\n",
    "cv2.imshow(\"statek\", statek)\n",
    "\n",
    "cv2.waitKey(5000)\n",
    "cv2.destroyAllWindows()"
   ],
   "metadata": {
    "collapsed": false,
    "ExecuteTime": {
     "end_time": "2024-02-26T13:20:16.710975Z",
     "start_time": "2024-02-26T13:20:16.666647Z"
    }
   }
  },
  {
   "cell_type": "code",
   "execution_count": null,
   "outputs": [],
   "source": [],
   "metadata": {
    "collapsed": false
   }
  }
 ],
 "metadata": {
  "kernelspec": {
   "display_name": "Python 3",
   "language": "python",
   "name": "python3"
  },
  "language_info": {
   "codemirror_mode": {
    "name": "ipython",
    "version": 3
   },
   "file_extension": ".py",
   "mimetype": "text/x-python",
   "name": "python",
   "nbconvert_exporter": "python",
   "pygments_lexer": "ipython3",
   "version": "3.10.13"
  }
 },
 "nbformat": 4,
 "nbformat_minor": 2
}
