{
 "cells": [
  {
   "cell_type": "markdown",
   "metadata": {},
   "source": [
    "# Przetwarzanie Grafiki i Muzyki - laboratorium nr 11\n",
    "\n",
    "## Zadanie 1 (2 punkty)\n",
    "\n",
    "  * Proszę wygenerować dane w kształcie sinusa.\n",
    "  * Proszę dodać szum typu pieprz i sól\n",
    "  * Proszę usunąć szum filtrem medianowym i średniej ruchomej.\n",
    "\n",
    "Proszę narysować wykres sinusa, zaszumionego sinusa i odszumionego sinusa."
   ]
  },
  {
   "cell_type": "code",
   "execution_count": null,
   "metadata": {
    "collapsed": true
   },
   "outputs": [],
   "source": []
  },
  {
   "cell_type": "markdown",
   "metadata": {},
   "source": [
    "## Zadanie 2 (1 punkt)\n",
    "\n",
    " Proszę wygenerować dane w kształcie sinusa.\n",
    "  * Proszę dodać szum Gaussowski\n",
    "  * Proszę usunąć szum filtrem medianowym i średniej ruchomej.\n",
    "  \n",
    "Proszę narysować wykres sinusa, zaszumionego sinusa i odszumionego sinusa."
   ]
  },
  {
   "cell_type": "code",
   "execution_count": null,
   "metadata": {
    "collapsed": true
   },
   "outputs": [],
   "source": []
  },
  {
   "cell_type": "markdown",
   "metadata": {},
   "source": [
    "## Zadanie 3 (1 punkt)\n",
    "\n",
    "Proszę wygenerować dane w kształcie sinusa i zapisać jako plik z rozszerzeniem .wav."
   ]
  },
  {
   "cell_type": "code",
   "execution_count": null,
   "metadata": {
    "collapsed": true
   },
   "outputs": [],
   "source": []
  },
  {
   "cell_type": "markdown",
   "metadata": {},
   "source": [
    "## Zadanie 4 (1 punkt)\n",
    "\n",
    "Proszę narysować głos: https://raw.githubusercontent.com/przem85/PGiM/master/img/ja1.wav"
   ]
  },
  {
   "cell_type": "code",
   "execution_count": null,
   "metadata": {
    "collapsed": true
   },
   "outputs": [],
   "source": []
  },
  {
   "cell_type": "markdown",
   "metadata": {},
   "source": [
    "## Zadanie 5 (2 punkty)\n",
    "\n",
    "  * Proszę wykonać progowanie głosu.\n",
    "  * Jeżeli wartość mniejsza niż 0 to -400, w odwrotnym przypadku 400.\n",
    "  * Proszę narysować głos przed progowaniem i po progowaniu."
   ]
  },
  {
   "cell_type": "code",
   "execution_count": null,
   "metadata": {
    "collapsed": true
   },
   "outputs": [],
   "source": []
  },
  {
   "cell_type": "markdown",
   "metadata": {},
   "source": [
    "# Zadanie 6 (3 punkty) \n",
    "\n",
    "  * Proszę dodać szum typu pieprz i sól −200,200, Gaussowski N(0,200), jednostajny na odcinku [−200,200]\n",
    "  * Proszę usunąć szum filtrem medianowym i średniej ruchomej.\n",
    "  * Odpalić dźwięk przed i po filtrowaniu i porównać."
   ]
  },
  {
   "cell_type": "code",
   "execution_count": null,
   "metadata": {
    "collapsed": true
   },
   "outputs": [],
   "source": []
  }
 ],
 "metadata": {
  "kernelspec": {
   "display_name": "Python 3",
   "language": "python",
   "name": "python3"
  },
  "language_info": {
   "codemirror_mode": {
    "name": "ipython",
    "version": 3
   },
   "file_extension": ".py",
   "mimetype": "text/x-python",
   "name": "python",
   "nbconvert_exporter": "python",
   "pygments_lexer": "ipython3",
   "version": "3.5.4"
  }
 },
 "nbformat": 4,
 "nbformat_minor": 2
}
