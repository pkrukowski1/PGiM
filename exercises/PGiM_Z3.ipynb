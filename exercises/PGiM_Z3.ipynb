{
 "cells": [
  {
   "cell_type": "markdown",
   "metadata": {},
   "source": [
    "# Przetwarzanie Grafiki i Muzyki - laboratorium nr 3"
   ]
  },
  {
   "cell_type": "code",
   "execution_count": 1,
   "metadata": {
    "collapsed": true
   },
   "outputs": [],
   "source": [
    "import cv2\n",
    "import numpy as np\n",
    "import matplotlib.pyplot as plt\n",
    "%matplotlib inline"
   ]
  },
  {
   "cell_type": "markdown",
   "metadata": {},
   "source": [
    "# Operacje na dwóch obrazach."
   ]
  },
  {
   "cell_type": "markdown",
   "metadata": {},
   "source": [
    "## Zadanie 1 (1 punkt)\n",
    "Proszę napisać funkcję zwiększającą kolory obrazu o zadaną wartość. Przetestuj tę funkcję na obrazie \"eagle.jpg\"."
   ]
  },
  {
   "cell_type": "code",
   "execution_count": null,
   "metadata": {
    "collapsed": true
   },
   "outputs": [],
   "source": []
  },
  {
   "cell_type": "markdown",
   "metadata": {},
   "source": [
    "## Zadanie 2 (1.5 punkta)\n",
    "Proszę dodać do siebie dwa obrazy w następujący sposób (przydatny link: https://opencv24-python-tutorials.readthedocs.io/en/latest/py_tutorials/py_core/py_image_arithmetics/py_image_arithmetics.html):\n",
    "\n",
    "  * Przeskalowując obraz wynikowy do oryginalnej skali:\n",
    "  $$Image(x,y) = \\frac{Image_1(x,y) + Image_2(x,y)}{2} $$\n",
    "  \n",
    "  * Obcinając wartości przekraczające maksymalną wartość:\n",
    "  $$Image(x,y) = \\min( 255, Image_1(x,y) + Image_2(x,y) )$$\n",
    "  \n",
    "  * Uzyskując efekt cykliczności – wartość wynikowa modulo maks:\n",
    "  $$Image(x,y) = ( Image_1(x,y) + Image_2(x,y) ) \\mod 256$$\n",
    "  \n",
    "Użyj obrazów \"eagle.jpg\" oraz \"lake.jpg\":\n",
    "\n",
    "![alt](https://raw.githubusercontent.com/przem85/PGiM/master/img/eagle.jpg)\n",
    "![alt](https://raw.githubusercontent.com/przem85/PGiM/master/img/lake.jpg)\n"
   ]
  },
  {
   "cell_type": "code",
   "execution_count": null,
   "metadata": {
    "collapsed": true
   },
   "outputs": [],
   "source": []
  },
  {
   "cell_type": "markdown",
   "metadata": {},
   "source": [
    "## Zadanie 3 (1 punkt)\n",
    "Zaimplementuj dodawanie obrazów z saturacją zgodnie ze wzorem:\n",
    "\n",
    "$$\n",
    "Image(x,y) = Image_1(x,y) + (1-W)\\cdot Image_2(x,y)\n",
    "$$\n",
    "\n",
    "Użyj obrazów \"boldt.jpg\" oraz \"rain.jpg\":\n",
    "\n",
    "![alt](https://raw.githubusercontent.com/przem85/PGiM/master/img/boldt.jpg)\n",
    "![alt](https://raw.githubusercontent.com/przem85/PGiM/master/img/rain.jpg)"
   ]
  },
  {
   "cell_type": "code",
   "execution_count": null,
   "metadata": {
    "collapsed": false
   },
   "outputs": [],
   "source": []
  },
  {
   "cell_type": "markdown",
   "metadata": {},
   "source": [
    "## Zadanie 4 (1.5 punkta)\n",
    "Proszę odjąć do siebie dwa obrazy:\n",
    "\n",
    "  * Przeskalowując obraz wynikowy do oryginalnej skali:\n",
    "  $$Image(x,y) = \\frac{Image_1(x,y) - Image_2(x,y) + 255}{2} $$\n",
    "  \n",
    "  * Ustawiając wartości poniżej zera na zero:\n",
    "  $$Image(x,y) = max( 0, Image_1(x,y) - Image_2(x,y) )$$\n",
    "  \n",
    "  * Uzyskując efekt cykliczności – wartość wynikowa modulo maks:\n",
    "  $$Image(x,y) = ( Image_1(x,y) - Image_2(x,y) + 256) \\mod 256$$\n",
    "  \n",
    "Użyj obrazów \"eagle.jpg\" oraz \"lake.jpg\"."
   ]
  },
  {
   "cell_type": "code",
   "execution_count": null,
   "metadata": {
    "collapsed": false
   },
   "outputs": [],
   "source": []
  },
  {
   "cell_type": "markdown",
   "metadata": {},
   "source": [
    "## Zadanie 5 (1 punkt)\n",
    "\n",
    "  * Znajdź 3 różnice między obrazkami \"s1.png\" a \"s2.png\"\n",
    "![alt](https://raw.githubusercontent.com/przem85/PGiM/master/img/s1.png)\n",
    "![alt](https://raw.githubusercontent.com/przem85/PGiM/master/img/s2.png)\n",
    "\n",
    "  * Znajdź 3 różnice między obrazkami \"krol1.png\" a \"krol2.png\"\n",
    "![alt](https://raw.githubusercontent.com/przem85/PGiM/master/img/krol1.png)\n",
    "![alt](https://raw.githubusercontent.com/przem85/PGiM/master/img/krol2.png)\n",
    "\n",
    "Oczywiście za pomocą programu, który zadziała dla dowolnych zdjęć :)"
   ]
  },
  {
   "cell_type": "code",
   "execution_count": null,
   "metadata": {
    "collapsed": true
   },
   "outputs": [],
   "source": []
  },
  {
   "cell_type": "markdown",
   "metadata": {},
   "source": [
    "## Zadanie 6 (1 punkt)\n",
    "Proszę przemnożyć przez siebie dwa obrazy, w tym drugi przeskalowany do [0,1], wg wzoru:\n",
    "\n",
    "$$\n",
    "Image(x,y) = Image_1(x,y) * (Image_2(x,y)/255)\n",
    "$$\n",
    "\n",
    "Użyj obrazów \"LENA_512.jpg\" oraz \"ok1.jpg\".\n",
    "\n",
    "![alt](https://raw.githubusercontent.com/przem85/PGiM/master/img/LENA_512.jpg)\n",
    "![alt](https://raw.githubusercontent.com/przem85/PGiM/master/img/ok1.jpg)"
   ]
  },
  {
   "cell_type": "code",
   "execution_count": null,
   "metadata": {
    "collapsed": true
   },
   "outputs": [],
   "source": []
  },
  {
   "cell_type": "markdown",
   "metadata": {},
   "source": [
    "## Zadanie 7 (1 punkt)\n",
    "\n",
    "Proszę podzielić przez siebie dwa obrazy:\n",
    "$$\n",
    "Image(x,y) = \\frac{Image_1(x,y)}{Image_2(x,y)}\n",
    "$$\n",
    "\n",
    "Proszę uważać na dzielenie przez zero!\n",
    "\n",
    "Użyj obrazów: \"eagle.jpg\" oraz \"lake.jpg\"."
   ]
  },
  {
   "cell_type": "code",
   "execution_count": null,
   "metadata": {
    "collapsed": false
   },
   "outputs": [],
   "source": []
  },
  {
   "cell_type": "markdown",
   "metadata": {},
   "source": [
    "## Zadanie 8 (2 punkt)\n",
    "\n",
    "Proszę znaleźć różnice (podobnie jak w zadaniu nr 6) między obrazkami \"s1.png\" a \"s2.png\" oraz między obrazkami \"krol1.png\" a \"krol2.png\", ale zamiast odejmowania użyć dzielenia."
   ]
  },
  {
   "cell_type": "code",
   "execution_count": null,
   "metadata": {
    "collapsed": true
   },
   "outputs": [],
   "source": []
  }
 ],
 "metadata": {
  "kernelspec": {
   "display_name": "Python 3",
   "language": "python",
   "name": "python3"
  },
  "language_info": {
   "codemirror_mode": {
    "name": "ipython",
    "version": 3
   },
   "file_extension": ".py",
   "mimetype": "text/x-python",
   "name": "python",
   "nbconvert_exporter": "python",
   "pygments_lexer": "ipython3",
   "version": "3.10.13"
  }
 },
 "nbformat": 4,
 "nbformat_minor": 2
}
