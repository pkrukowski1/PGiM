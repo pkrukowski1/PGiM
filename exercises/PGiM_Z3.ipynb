{
 "cells": [
  {
   "cell_type": "markdown",
   "metadata": {},
   "source": [
    "# Przetwarzanie Grafiki i Muzyki - laboratorium nr 3"
   ]
  },
  {
   "cell_type": "code",
   "execution_count": 1,
   "metadata": {
    "collapsed": true,
    "ExecuteTime": {
     "end_time": "2024-03-17T19:20:40.439194Z",
     "start_time": "2024-03-17T19:20:37.957771Z"
    }
   },
   "outputs": [],
   "source": [
    "import cv2\n",
    "import numpy as np\n",
    "import matplotlib.pyplot as plt\n",
    "%matplotlib inline"
   ]
  },
  {
   "cell_type": "markdown",
   "metadata": {},
   "source": [
    "# Operacje na dwóch obrazach."
   ]
  },
  {
   "cell_type": "markdown",
   "metadata": {},
   "source": [
    "## Zadanie 1 (1 punkt)\n",
    "Proszę napisać funkcję zwiększającą kolory obrazu o zadaną wartość. Przetestuj tę funkcję na obrazie \"eagle.jpg\"."
   ]
  },
  {
   "cell_type": "code",
   "execution_count": 11,
   "metadata": {
    "collapsed": true,
    "ExecuteTime": {
     "end_time": "2024-03-17T19:40:24.998040Z",
     "start_time": "2024-03-17T19:40:24.924179Z"
    }
   },
   "outputs": [],
   "source": [
    "def increase_color(image, value: int):\n",
    "    new_image = np.copy(image)\n",
    "    new_image[:, :, 0] = cv2.add(new_image[:, :, 0], value)\n",
    "    new_image[:, :, 1] = cv2.add(new_image[:, :, 1], value)\n",
    "    new_image[:, :, 2] = cv2.add(new_image[:, :, 2], value)\n",
    "    return new_image\n",
    "    \n",
    "    # # convert the image to HSV format\n",
    "    # hsv_image = cv2.cvtColor(image, cv2.COLOR_BGR2HSV)\n",
    "    # \n",
    "    # # increase the V channel (brightness) by the value\n",
    "    # hsv_image[:, :, 2] = cv2.add(hsv_image[:, :, 2], value)\n",
    "    # \n",
    "    # # convert the image back to BGR format\n",
    "    # brightened_image = cv2.cvtColor(hsv_image, cv2.COLOR_HSV2BGR)\n",
    "    # \n",
    "    # return brightened_image\n",
    "\n",
    "\n",
    "eagle = cv2.imread(\"./img/eagle.jpg\", cv2.IMREAD_UNCHANGED)\n",
    "cv2.imshow(\"original\", eagle)\n",
    "\n",
    "increased_color_eagle = increase_color(eagle, 50)\n",
    "\n",
    "cv2.imshow(\"increased\", increased_color_eagle)\n",
    "\n",
    "cv2.waitKey(50)\n",
    "cv2.destroyAllWindows()"
   ]
  },
  {
   "cell_type": "markdown",
   "metadata": {},
   "source": [
    "## Zadanie 2 (1.5 punkta)\n",
    "Proszę dodać do siebie dwa obrazy w następujący sposób (przydatny link: https://opencv24-python-tutorials.readthedocs.io/en/latest/py_tutorials/py_core/py_image_arithmetics/py_image_arithmetics.html):\n",
    "\n",
    "  * Przeskalowując obraz wynikowy do oryginalnej skali:\n",
    "  $$Image(x,y) = \\frac{Image_1(x,y) + Image_2(x,y)}{2} $$\n",
    "  \n",
    "  * Obcinając wartości przekraczające maksymalną wartość:\n",
    "  $$Image(x,y) = \\min( 255, Image_1(x,y) + Image_2(x,y) )$$\n",
    "  \n",
    "  * Uzyskując efekt cykliczności – wartość wynikowa modulo maks:\n",
    "  $$Image(x,y) = ( Image_1(x,y) + Image_2(x,y) ) \\mod 256$$\n",
    "  \n",
    "Użyj obrazów \"eagle.jpg\" oraz \"lake.jpg\":\n",
    "\n",
    "![alt](https://raw.githubusercontent.com/przem85/PGiM/master/img/eagle.jpg)\n",
    "![alt](https://raw.githubusercontent.com/przem85/PGiM/master/img/lake.jpg)\n"
   ]
  },
  {
   "cell_type": "code",
   "execution_count": 7,
   "metadata": {
    "collapsed": true,
    "ExecuteTime": {
     "end_time": "2024-03-11T13:17:23.307328Z",
     "start_time": "2024-03-11T13:17:23.211129Z"
    }
   },
   "outputs": [],
   "source": [
    "def add_images_scaled(img_one, img_two, gamma: float):\n",
    "    return cv2.addWeighted(img_one, 0.5, img_two, 0.5, gamma)\n",
    "\n",
    "def add_images_cut_above(img_one, img_two):\n",
    "    # (x + y) mod n = (x mod n + y mod n) mod n\n",
    "    return cv2.add(img_one, img_two)\n",
    "\n",
    "def add_images_modulo(img_one, img_two):\n",
    "    # because there is np.uint8 under the hood, so it overflows\n",
    "    return img_one + img_two\n",
    "\n",
    "\n",
    "eagle = cv2.imread(\"./img/eagle.jpg\", cv2.IMREAD_UNCHANGED)\n",
    "lake = cv2.imread(\"./img/lake.jpg\", cv2.IMREAD_UNCHANGED)\n",
    "\n",
    "scaled = add_images_scaled(eagle, lake, 0.5)\n",
    "cut_above = add_images_cut_above(eagle, lake)\n",
    "modulo = add_images_modulo(eagle, lake)\n",
    "\n",
    "cv2.imshow(\"scaled\", scaled)\n",
    "cv2.imshow(\"cut_above\", cut_above)\n",
    "cv2.imshow(\"modulo\", modulo)\n",
    "\n",
    "cv2.waitKey(50)\n",
    "cv2.destroyAllWindows()"
   ]
  },
  {
   "cell_type": "markdown",
   "metadata": {},
   "source": [
    "## Zadanie 3 (1 punkt)\n",
    "Zaimplementuj dodawanie obrazów z saturacją zgodnie ze wzorem:\n",
    "\n",
    "$$\n",
    "Image(x,y) = Image_1(x,y) + (1-W)\\cdot Image_2(x,y)\n",
    "$$\n",
    "\n",
    "Użyj obrazów \"boldt.jpg\" oraz \"rain.jpg\":\n",
    "\n",
    "![alt](https://raw.githubusercontent.com/przem85/PGiM/master/img/boldt.jpg)\n",
    "![alt](https://raw.githubusercontent.com/przem85/PGiM/master/img/rain.jpg)"
   ]
  },
  {
   "cell_type": "code",
   "execution_count": 18,
   "metadata": {
    "collapsed": false,
    "ExecuteTime": {
     "end_time": "2024-03-11T13:33:20.961707Z",
     "start_time": "2024-03-11T13:33:20.869171Z"
    }
   },
   "outputs": [],
   "source": [
    "def add_with_saturation(img_one, img_two, saturation: float, gamma: float = 0):\n",
    "    return cv2.addWeighted(img_one, 1, img_two, 1 - saturation, gamma)\n",
    "\n",
    "boldt = cv2.imread(\"./img/boldt.jpg\", cv2.IMREAD_UNCHANGED)\n",
    "rain = cv2.imread(\"./img/rain.jpg\", cv2.IMREAD_UNCHANGED)\n",
    "\n",
    "with_saturation = add_with_saturation(boldt, rain, 0.5)\n",
    "with_saturation_gamma = add_with_saturation(boldt, rain, 0.5, gamma=100)\n",
    "\n",
    "cv2.imshow(\"boldt\", boldt)\n",
    "cv2.imshow(\"rain\", rain)\n",
    "cv2.imshow(\"saturation add\", with_saturation)\n",
    "cv2.imshow(\"saturation add with gamma=100\", with_saturation_gamma)\n",
    "\n",
    "cv2.waitKey(50)\n",
    "cv2.destroyAllWindows()"
   ]
  },
  {
   "cell_type": "markdown",
   "metadata": {},
   "source": [
    "## Zadanie 4 (1.5 punkta)\n",
    "Proszę odjąć do siebie dwa obrazy:\n",
    "\n",
    "  * Przeskalowując obraz wynikowy do oryginalnej skali:\n",
    "  $$Image(x,y) = \\frac{Image_1(x,y) - Image_2(x,y) + 255}{2} $$\n",
    "  \n",
    "  * Ustawiając wartości poniżej zera na zero:\n",
    "  $$Image(x,y) = max( 0, Image_1(x,y) - Image_2(x,y) )$$\n",
    "  \n",
    "  * Uzyskując efekt cykliczności – wartość wynikowa modulo maks:\n",
    "  $$Image(x,y) = ( Image_1(x,y) - Image_2(x,y) + 256) \\mod 256$$\n",
    "  \n",
    "Użyj obrazów \"eagle.jpg\" oraz \"lake.jpg\"."
   ]
  },
  {
   "cell_type": "code",
   "execution_count": 22,
   "metadata": {
    "collapsed": false,
    "ExecuteTime": {
     "end_time": "2024-03-11T13:39:31.292113Z",
     "start_time": "2024-03-11T13:39:31.211931Z"
    }
   },
   "outputs": [],
   "source": [
    "# https://docs.opencv.org/4.x/d1/dc5/tutorial_background_subtraction.html\n",
    "\n",
    "def sub_images_scaled(img_one, img_two, gamma: float):\n",
    "    return cv2.addWeighted(img_one, 0.5, img_two, -0.5, 255 / 2)\n",
    "\n",
    "def sub_images_cut_below(img_one, img_two):\n",
    "    # (x - y) mod n = (x mod n - y mod n) mod n\n",
    "    return cv2.subtract(img_one, img_two)\n",
    "\n",
    "def sub_images_modulo(img_one, img_two):\n",
    "    # because there is np.uint8 under the hood, so it underflows\n",
    "    return img_one - img_two\n",
    "\n",
    "\n",
    "eagle = cv2.imread(\"./img/eagle.jpg\", cv2.IMREAD_UNCHANGED)\n",
    "lake = cv2.imread(\"./img/lake.jpg\", cv2.IMREAD_UNCHANGED)\n",
    "\n",
    "scaled_sub = sub_images_scaled(eagle, lake, 0.5)\n",
    "cut_above_sub = sub_images_cut_below(eagle, lake)\n",
    "modulo_sub = sub_images_modulo(eagle, lake)\n",
    "\n",
    "cv2.imshow(\"scaled\", scaled_sub)\n",
    "cv2.imshow(\"cut_below\", cut_above_sub)\n",
    "cv2.imshow(\"modulo\", modulo_sub)\n",
    "\n",
    "cv2.waitKey(50)\n",
    "cv2.destroyAllWindows()"
   ]
  },
  {
   "cell_type": "markdown",
   "metadata": {},
   "source": [
    "## Zadanie 5 (1 punkt)\n",
    "\n",
    "  * Znajdź 3 różnice między obrazkami \"s1.png\" a \"s2.png\"\n",
    "![alt](https://raw.githubusercontent.com/przem85/PGiM/master/img/s1.png)\n",
    "![alt](https://raw.githubusercontent.com/przem85/PGiM/master/img/s2.png)\n",
    "\n",
    "  * Znajdź 3 różnice między obrazkami \"krol1.png\" a \"krol2.png\"\n",
    "![alt](https://raw.githubusercontent.com/przem85/PGiM/master/img/krol1.png)\n",
    "![alt](https://raw.githubusercontent.com/przem85/PGiM/master/img/krol2.png)\n",
    "\n",
    "Oczywiście za pomocą programu, który zadziała dla dowolnych zdjęć :)"
   ]
  },
  {
   "cell_type": "code",
   "execution_count": 35,
   "metadata": {
    "collapsed": true,
    "ExecuteTime": {
     "end_time": "2024-03-11T13:51:35.791954Z",
     "start_time": "2024-03-11T13:51:35.700832Z"
    }
   },
   "outputs": [],
   "source": [
    "def find_differences(img_one, img_two):\n",
    "    return sub_images_modulo(img_one, img_two)\n",
    "\n",
    "s1 = cv2.imread(\"./img/s1.png\", cv2.IMREAD_COLOR)\n",
    "s2 = cv2.imread(\"./img/s2.png\", cv2.IMREAD_COLOR)\n",
    "\n",
    "krol1 = cv2.imread(\"./img/krol1.png\", cv2.IMREAD_COLOR)\n",
    "krol2 = cv2.imread(\"./img/krol2.png\", cv2.IMREAD_COLOR)\n",
    "\n",
    "s_diff = find_differences(s1, s2)\n",
    "krol_diff = find_differences(krol1, krol2)\n",
    "\n",
    "cv2.imshow(\"s diff\", s_diff)\n",
    "cv2.imshow(\"krol diff\", krol_diff)\n",
    "\n",
    "cv2.waitKey(50)\n",
    "cv2.destroyAllWindows()"
   ]
  },
  {
   "cell_type": "markdown",
   "metadata": {},
   "source": [
    "|## Zadanie 6 (1 punkt)\n",
    "Proszę przemnożyć przez siebie dwa obrazy, w tym drugi przeskalowany do [0,1], wg wzoru:\n",
    "\n",
    "$$\n",
    "Image(x,y) = Image_1(x,y) * (Image_2(x,y)/255)\n",
    "$$\n",
    "\n",
    "Użyj obrazów \"LENA_512.jpg\" oraz \"ok1.jpg\".\n",
    "\n",
    "![alt](https://raw.githubusercontent.com/przem85/PGiM/master/img/LENA_512.jpg)\n",
    "![alt](https://raw.githubusercontent.com/przem85/PGiM/master/img/ok1.jpg)"
   ]
  },
  {
   "cell_type": "code",
   "execution_count": 37,
   "metadata": {
    "collapsed": true,
    "ExecuteTime": {
     "end_time": "2024-03-11T13:54:12.620801Z",
     "start_time": "2024-03-11T13:54:12.549937Z"
    }
   },
   "outputs": [],
   "source": [
    "def multiply_images(img_one, img_two):\n",
    "    return cv2.multiply(img_one, img_two, scale=1/255)\n",
    "\n",
    "lena = cv2.imread(\"./img/LENA_512.jpg\", cv2.IMREAD_COLOR)\n",
    "ok = cv2.imread(\"./img/ok1.jpg\", cv2.IMREAD_COLOR)\n",
    "\n",
    "multiplied = multiply_images(lena, ok)\n",
    "\n",
    "cv2.imshow(\"multiplied images\", multiplied)\n",
    "\n",
    "cv2.waitKey(50)\n",
    "cv2.destroyAllWindows()"
   ]
  },
  {
   "cell_type": "markdown",
   "metadata": {},
   "source": [
    "## Zadanie 7 (1 punkt)\n",
    "\n",
    "Proszę podzielić przez siebie dwa obrazy:\n",
    "$$\n",
    "Image(x,y) = \\frac{Image_1(x,y)}{Image_2(x,y)}\n",
    "$$\n",
    "\n",
    "Proszę uważać na dzielenie przez zero!\n",
    "\n",
    "Użyj obrazów: \"eagle.jpg\" oraz \"lake.jpg\"."
   ]
  },
  {
   "cell_type": "code",
   "execution_count": 53,
   "metadata": {
    "collapsed": false,
    "ExecuteTime": {
     "end_time": "2024-03-11T14:28:47.283053Z",
     "start_time": "2024-03-11T14:28:47.213638Z"
    }
   },
   "outputs": [],
   "source": [
    "def divide_images(img_one, img_two):\n",
    "    img_one_proper = np.copy(img_one).astype(np.float32)\n",
    "    img_two_proper = np.copy(img_two).astype(np.float32)\n",
    "    \n",
    "    # to avoid division by 0\n",
    "    img_one_proper = np.maximum(img_one_proper, 1)\n",
    "    img_two_proper = np.maximum(img_two_proper, 1)\n",
    "    \n",
    "    # 2 by 1, because otherwise differences are not noticeable enough\n",
    "    return cv2.divide(img_one_proper, img_two_proper)\n",
    "\n",
    "\n",
    "eagle = cv2.imread(\"./img/eagle.jpg\", cv2.IMREAD_UNCHANGED)\n",
    "lake = cv2.imread(\"./img/lake.jpg\", cv2.IMREAD_UNCHANGED)\n",
    "\n",
    "divided = divide_images(eagle, lake)\n",
    "\n",
    "cv2.imshow(\"divided\", divided)\n",
    "\n",
    "cv2.waitKey(50)\n",
    "cv2.destroyAllWindows()\n"
   ]
  },
  {
   "cell_type": "markdown",
   "metadata": {},
   "source": [
    "## Zadanie 8 (2 punkt)\n",
    "\n",
    "Proszę znaleźć różnice (podobnie jak w zadaniu nr 6) między obrazkami \"s1.png\" a \"s2.png\" oraz między obrazkami \"krol1.png\" a \"krol2.png\", ale zamiast odejmowania użyć dzielenia."
   ]
  },
  {
   "cell_type": "code",
   "execution_count": 54,
   "metadata": {
    "collapsed": true,
    "ExecuteTime": {
     "end_time": "2024-03-11T14:28:54.236045Z",
     "start_time": "2024-03-11T14:28:54.150542Z"
    }
   },
   "outputs": [],
   "source": [
    "def find_differences_divide(img_one, img_two):\n",
    "    return divide_images(img_two, img_one)\n",
    "\n",
    "\n",
    "s1 = cv2.imread(\"./img/s1.png\", cv2.IMREAD_COLOR)\n",
    "s2 = cv2.imread(\"./img/s2.png\", cv2.IMREAD_COLOR)\n",
    "\n",
    "krol1 = cv2.imread(\"./img/krol1.png\", cv2.IMREAD_COLOR)\n",
    "krol2 = cv2.imread(\"./img/krol2.png\", cv2.IMREAD_COLOR)\n",
    "\n",
    "s_diff_div = find_differences_divide(s1, s2)\n",
    "krol_diff_div = find_differences_divide(krol1, krol2)\n",
    "\n",
    "cv2.imshow(\"s diff divide\", s_diff_div)\n",
    "cv2.imshow(\"krol diff divide\", krol_diff_div)\n",
    "\n",
    "cv2.waitKey(50)\n",
    "cv2.destroyAllWindows()"
   ]
  },
  {
   "cell_type": "code",
   "execution_count": null,
   "outputs": [],
   "source": [],
   "metadata": {
    "collapsed": false
   }
  }
 ],
 "metadata": {
  "kernelspec": {
   "display_name": "Python 3",
   "language": "python",
   "name": "python3"
  },
  "language_info": {
   "codemirror_mode": {
    "name": "ipython",
    "version": 3
   },
   "file_extension": ".py",
   "mimetype": "text/x-python",
   "name": "python",
   "nbconvert_exporter": "python",
   "pygments_lexer": "ipython3",
   "version": "3.10.13"
  }
 },
 "nbformat": 4,
 "nbformat_minor": 2
}
