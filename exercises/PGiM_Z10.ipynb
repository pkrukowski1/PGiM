{
 "cells": [
  {
   "cell_type": "markdown",
   "metadata": {},
   "source": [
    "# Przetwarzanie Grafiki i Muzyki - laboratorium nr 10"
   ]
  },
  {
   "cell_type": "markdown",
   "metadata": {},
   "source": [
    "## Zadanie 1 (1 punkt)\n",
    "\n",
    "Napisz funkcję wykonującą przeskalowanie (zmniejszenie / rozszerzenie). Argumentami takiej funkcji powinny być liczby $a$ oraz $b$.\n",
    "\n",
    "Przeskalowanie można uzyskać za pomocą przekształcenia:\n",
    "\n",
    " $$\n",
    " \\begin{bmatrix} \n",
    " i \\\\ \n",
    " j  \n",
    " \\end{bmatrix}= \n",
    " \\begin{bmatrix} \n",
    " a & 0 & 0 \\\\ \n",
    " 0 & b & 0  \n",
    " \\end{bmatrix} \n",
    " \\begin{bmatrix} \n",
    " i' \\\\ \n",
    " j' \\\\ \n",
    " 1 \n",
    " \\end{bmatrix}, \n",
    " $$\n",
    "\n",
    "gdzie $a$ odpowiada za rozciągnięcie w poziomie, a $b$ w pionie. Przetestuj kod na obrazie \"LENA_512.jpg\" dla:\n",
    "* a = 1, b=2,\n",
    "* a = 0.5, b=0.5,\n",
    "* a = 2, b=1."
   ]
  },
  {
   "cell_type": "code",
   "execution_count": 1,
   "outputs": [],
   "source": [
    "import cv2\n",
    "import numpy as np\n",
    "import matplotlib.pyplot as plt\n",
    "import scipy\n",
    "%matplotlib inline"
   ],
   "metadata": {
    "collapsed": false,
    "ExecuteTime": {
     "end_time": "2024-06-03T10:08:50.937972Z",
     "start_time": "2024-06-03T10:08:50.605504Z"
    }
   }
  },
  {
   "cell_type": "code",
   "execution_count": 3,
   "metadata": {
    "collapsed": true,
    "ExecuteTime": {
     "end_time": "2024-06-03T10:12:52.303454Z",
     "start_time": "2024-06-03T10:12:52.117973Z"
    }
   },
   "outputs": [],
   "source": [
    "def scale_image(image, a, b):\n",
    "    height, width = image.shape[:2]\n",
    "    M = np.array([[a, 0, 0],\n",
    "                  [0, b, 0]], dtype=np.float32)\n",
    "    scaled_img = cv2.warpAffine(image, M, (int(width * a), int(height * b)))\n",
    "    return scaled_img\n",
    "\n",
    "image_og = cv2.imread(\"./img/LENA_512.jpg\", cv2.IMREAD_UNCHANGED)\n",
    "image_one = scale_image(image_og, 1, 2)\n",
    "image_two = scale_image(image_og, 0.5, 0.5)\n",
    "image_three = scale_image(image_og, 2, 1)\n",
    "\n",
    "cv2.imshow('original', image_og)\n",
    "cv2.imshow('a=1, b=2', image_one)\n",
    "cv2.imshow('a=0.5, b=0.5', image_two)\n",
    "cv2.imshow('a=2, b=1', image_three)\n",
    "\n",
    "cv2.waitKey(50)\n",
    "cv2.destroyAllWindows()"
   ]
  },
  {
   "cell_type": "markdown",
   "metadata": {},
   "source": [
    "## Zadanie 2 (1 punkt)\n",
    "\n",
    "Napisz funkcję wykonującą obroty obrazu \"LENA_512.jpg\". Argumentem takiej funkcji powinien być kąt $\\phi$. \n",
    "\n",
    "Obrót można uzyskać za pomocą przekształcenia:\n",
    "\n",
    "\n",
    "$$ \n",
    "\\begin{bmatrix}\n",
    "i \\\\ \n",
    "j  \n",
    "\\end{bmatrix}\n",
    "= \n",
    "\\begin{bmatrix} \n",
    "\\cos( \\phi ) & \\sin(\\phi) & 0 \\\\\n",
    "- \\sin(\\phi) & cos(\\phi) & 0  \n",
    "\\end{bmatrix} \n",
    "\\begin{bmatrix} \n",
    "i' \\\\ \n",
    "j' \\\\ \n",
    "1 \n",
    "\\end{bmatrix}, \n",
    "$$\n",
    "\n",
    "gdzie $\\phi$ jest kątem obrotu. "
   ]
  },
  {
   "cell_type": "code",
   "execution_count": 5,
   "metadata": {
    "collapsed": true,
    "ExecuteTime": {
     "end_time": "2024-06-03T10:15:01.077422Z",
     "start_time": "2024-06-03T10:15:00.991650Z"
    }
   },
   "outputs": [],
   "source": [
    "def rotate_image(image, phi):\n",
    "    height, width = image.shape[:2]\n",
    "    center = (width // 2, height // 2)\n",
    "    M = cv2.getRotationMatrix2D(center, phi, 1.0)\n",
    "    rotated_img = cv2.warpAffine(image, M, (width, height))\n",
    "    return rotated_img    \n",
    "\n",
    "\n",
    "image_og = cv2.imread(\"./img/LENA_512.jpg\", cv2.IMREAD_UNCHANGED)\n",
    "image_rotated_30 = rotate_image(image_og, 30)\n",
    "image_rotated_45 = rotate_image(image_og, 45)\n",
    "\n",
    "cv2.imshow('original', image_og)\n",
    "cv2.imshow('rotated by 30 degrees', image_rotated_30)\n",
    "cv2.imshow('rotated by 45 degrees', image_rotated_45)\n",
    "\n",
    "cv2.waitKey(50)\n",
    "cv2.destroyAllWindows()"
   ]
  },
  {
   "cell_type": "markdown",
   "metadata": {},
   "source": [
    "## Zadanie 3 (1 punkt)\n",
    "\n",
    "Wykonaj pochylenie obrazu \"LENA_512.jpg\". Argumentem takiej funkcji powinien być kąt $\\phi$.\n",
    "\n",
    "Pochylenie można uzyskać za pomocą przekształcenia:\n",
    "\n",
    "$$ \n",
    "\\begin{bmatrix} \n",
    "i \\\\ \n",
    "j  \n",
    "\\end{bmatrix}= \n",
    "\\begin{bmatrix} \n",
    "1 & \\tan(\\phi) & 0 \\\\ \n",
    "0 & 1 & 0  \n",
    "\\end{bmatrix} \n",
    "\\begin{bmatrix} \n",
    "i' \\\\ \n",
    "j' \\\\ \n",
    "1 \n",
    "\\end{bmatrix}, \n",
    "$$\n",
    "\n",
    "gdzie $\\phi$ jest kątem pochylenia."
   ]
  },
  {
   "cell_type": "code",
   "execution_count": 6,
   "metadata": {
    "collapsed": true,
    "ExecuteTime": {
     "end_time": "2024-06-03T10:19:28.572298Z",
     "start_time": "2024-06-03T10:19:28.462073Z"
    }
   },
   "outputs": [
    {
     "name": "stderr",
     "output_type": "stream",
     "text": [
      "2024-06-03 12:19:28.511 python3.11[4555:81660] Warning: Window move completed without beginning\n"
     ]
    }
   ],
   "source": [
    "import math\n",
    "\n",
    "def skew_image(image, phi):\n",
    "    height, width = image.shape[:2]\n",
    "    M = np.float32([[1, math.tan(math.radians(phi)), 0],\n",
    "                    [0, 1, 0]])\n",
    "    skewed_img = cv2.warpAffine(image, M, (width, height))\n",
    "    return skewed_img\n",
    "\n",
    "\n",
    "image_og = cv2.imread(\"./img/LENA_512.jpg\", cv2.IMREAD_UNCHANGED)\n",
    "image_skewed_30 = skew_image(image_og, 30)\n",
    "image_skewed_45 = skew_image(image_og, 45)\n",
    "\n",
    "cv2.imshow('original', image_og)\n",
    "cv2.imshow('skewed by 30 degrees', image_skewed_30)\n",
    "cv2.imshow('skewed by 45 degrees', image_skewed_45)\n",
    "\n",
    "cv2.waitKey(50)\n",
    "cv2.destroyAllWindows()\n"
   ]
  },
  {
   "cell_type": "markdown",
   "metadata": {},
   "source": [
    "## Zadanie 4 (1 punkt)\n",
    "\n",
    "Wykoaj przekształcenie panoramiczne obrazu \"LENA_512.jpg\".\n",
    "\n",
    "Przekształcenie panoramiczne można uzyskać za pomocą przekształcenia:\n",
    "\n",
    "$$\n",
    "\\begin{bmatrix}\n",
    "i \\\\ \n",
    "j  \n",
    "\\end{bmatrix}= \n",
    "\\begin{bmatrix} \n",
    "a & 0 & 0 \\\\ \n",
    "0 & 1 & 0  \n",
    "\\end{bmatrix} \n",
    "\\begin{bmatrix} \n",
    "i' \\\\ \n",
    "j' \\\\ \n",
    "1 \n",
    "\\end{bmatrix}, \n",
    "$$\n",
    "\n",
    "Panoramiczne przekształcenie poprawia nieprawidłowe proporcje."
   ]
  },
  {
   "cell_type": "code",
   "execution_count": 7,
   "metadata": {
    "collapsed": true,
    "ExecuteTime": {
     "end_time": "2024-06-03T10:20:52.355681Z",
     "start_time": "2024-06-03T10:20:52.262357Z"
    }
   },
   "outputs": [],
   "source": [
    "def panoramic_image(image, a):\n",
    "    height, width = image.shape[:2]\n",
    "    M = np.float32([[a, 0, 0],\n",
    "                    [0, 1, 0]])\n",
    "    panoramic_img = cv2.warpAffine(image, M, (int(width * a), height))\n",
    "    return panoramic_img\n",
    "    \n",
    "    \n",
    "image_og = cv2.imread(\"./img/LENA_512.jpg\", cv2.IMREAD_UNCHANGED)\n",
    "image_panoramic_one = panoramic_image(image_og, 0.5)\n",
    "image_panoramic_two= panoramic_image(image_og, 2)\n",
    "\n",
    "cv2.imshow('original', image_og)\n",
    "cv2.imshow('first panoramic', image_panoramic_one)\n",
    "cv2.imshow('second panoramic', image_panoramic_two)\n",
    "\n",
    "cv2.waitKey(50)\n",
    "cv2.destroyAllWindows()"
   ]
  },
  {
   "cell_type": "markdown",
   "metadata": {},
   "source": [
    "## Zadanie 5 (2 punkty)\n",
    "\n",
    "Znajdź macierz przekształcenia liniowego, które przekształca punkty\n",
    "\n",
    "  * (37, 116);\n",
    "  * (37, 256);\n",
    "  * (454, 1);\n",
    "\n",
    "na\n",
    "\n",
    "  * (0, 0);\n",
    "  * (0, img.rows - 1);\n",
    "  * (img.cols - 1, 0);\n",
    "  \n",
    "a następnie proszę przemnożyć taką macierz przez obrazek:\n",
    "\n",
    "![alt](https://raw.githubusercontent.com/przem85/PGiM/master/img/content_car_registration.png)\n",
    "\n",
    "Proszę wyświetlić przekształcony obrazek.\n"
   ]
  },
  {
   "cell_type": "code",
   "execution_count": 8,
   "metadata": {
    "collapsed": true,
    "ExecuteTime": {
     "end_time": "2024-06-03T10:30:10.934596Z",
     "start_time": "2024-06-03T10:30:10.834774Z"
    }
   },
   "outputs": [],
   "source": [
    "image = cv2.imread('./img/content_car_registration.png')\n",
    "rows, cols = image.shape[:2]\n",
    "\n",
    "pts_src = np.float32([[37, 116], [37, 256], [454, 1]])\n",
    "pts_dst = np.float32([[0, 0], [0, rows - 1], [cols - 1, 0]])\n",
    "M = cv2.getAffineTransform(pts_src, pts_dst)\n",
    "transformed_image = cv2.warpAffine(image, M, (cols, rows))\n",
    "\n",
    "cv2.imshow('original', image)\n",
    "cv2.imshow('transformed', transformed_image)\n",
    "cv2.waitKey(50)\n",
    "cv2.destroyAllWindows()"
   ]
  },
  {
   "cell_type": "markdown",
   "metadata": {},
   "source": [
    "## Zadanie 6 (2 punkty)\n",
    "\n",
    "Wyznacz kontury czarnych kropeczek i narysuj je. Użyj obrazu:\n",
    "\n",
    "![alt](https://raw.githubusercontent.com/przem85/PGiM/master/img/content_circles.png))"
   ]
  },
  {
   "cell_type": "code",
   "execution_count": 11,
   "metadata": {
    "collapsed": true,
    "ExecuteTime": {
     "end_time": "2024-06-03T10:36:10.507313Z",
     "start_time": "2024-06-03T10:36:10.429113Z"
    }
   },
   "outputs": [],
   "source": [
    "image = cv2.imread(\"./img/content_circles.png\")\n",
    "image_grayscale = cv2.cvtColor(image, cv2.COLOR_BGR2GRAY)\n",
    "\n",
    "_, threshold = cv2.threshold(image_grayscale, 100, 255, cv2.THRESH_BINARY_INV)\n",
    "contours, _ = cv2.findContours(threshold, cv2.RETR_EXTERNAL, cv2.CHAIN_APPROX_SIMPLE)\n",
    "cv2.drawContours(image, contours, -1, (0, 255, 0), 2)\n",
    "\n",
    "\n",
    "cv2.imshow(\"contours\", image)\n",
    "cv2.waitKey(50)\n",
    "cv2.destroyAllWindows()"
   ]
  },
  {
   "cell_type": "markdown",
   "metadata": {
    "collapsed": true
   },
   "source": [
    "# Zadanie 7 (2 punkty)\n",
    "\n",
    "Zaznacz rogi i kąty na obrazie:\n",
    "\n",
    "![alt](https://raw.githubusercontent.com/przem85/PGiM/master/img/corner.png)\n",
    "\n",
    "za pomocą metod:\n",
    "  * Harris Corner Detection\n",
    "  * FAST Corner Detection"
   ]
  },
  {
   "cell_type": "code",
   "execution_count": 12,
   "metadata": {
    "collapsed": true,
    "ExecuteTime": {
     "end_time": "2024-06-03T10:37:19.413079Z",
     "start_time": "2024-06-03T10:37:19.281147Z"
    }
   },
   "outputs": [],
   "source": [
    "image = cv2.imread(\"./img/corner.png\")\n",
    "image_grayscale = cv2.cvtColor(image, cv2.COLOR_BGR2GRAY)\n",
    "\n",
    "# Harris Corner Detection\n",
    "dst = cv2.cornerHarris(image_grayscale, 2, 3, 0.04)\n",
    "dst = cv2.dilate(dst, None)\n",
    "harris_corners_colored = image.copy()\n",
    "harris_corners_colored[dst > 0.01 * dst.max()] = [0, 0, 255]\n",
    "\n",
    "# FAST Corner Detection\n",
    "fast = cv2.FastFeatureDetector_create()\n",
    "keypoints = fast.detect(image_grayscale, None)\n",
    "\n",
    "fast_corners = cv2.drawKeypoints(image, keypoints, None, color=(255, 0, 0))\n",
    "\n",
    "cv2.imshow('original', image)\n",
    "cv2.imshow('harris corner detection', harris_corners_colored)\n",
    "cv2.imshow('fast corner detection', fast_corners)\n",
    "cv2.waitKey(50)\n",
    "cv2.destroyAllWindows()"
   ]
  },
  {
   "cell_type": "code",
   "execution_count": null,
   "outputs": [],
   "source": [],
   "metadata": {
    "collapsed": false
   }
  }
 ],
 "metadata": {
  "kernelspec": {
   "display_name": "Python 3",
   "language": "python",
   "name": "python3"
  },
  "language_info": {
   "codemirror_mode": {
    "name": "ipython",
    "version": 3
   },
   "file_extension": ".py",
   "mimetype": "text/x-python",
   "name": "python",
   "nbconvert_exporter": "python",
   "pygments_lexer": "ipython3",
   "version": "3.10.13"
  }
 },
 "nbformat": 4,
 "nbformat_minor": 2
}
