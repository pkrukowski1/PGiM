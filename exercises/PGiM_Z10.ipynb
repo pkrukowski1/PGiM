{
 "cells": [
  {
   "cell_type": "markdown",
   "metadata": {},
   "source": [
    "# Przetwarzanie Grafiki i Muzyki - laboratorium nr 10"
   ]
  },
  {
   "cell_type": "markdown",
   "metadata": {},
   "source": [
    "## Zadanie 1 (1 punkt)\n",
    "\n",
    "Napisz funkcję wykonującą przeskalowanie (zmniejszenie / rozszerzenie). Argumentami takiej funkcji powinny być liczby $a$ oraz $b$.\n",
    "\n",
    "Przeskalowanie można uzyskać za pomocą przekształcenia:\n",
    "\n",
    " $$\n",
    " \\begin{bmatrix} \n",
    " i \\\\ \n",
    " j  \n",
    " \\end{bmatrix}= \n",
    " \\begin{bmatrix} \n",
    " a & 0 & 0 \\\\ \n",
    " 0 & b & 0  \n",
    " \\end{bmatrix} \n",
    " \\begin{bmatrix} \n",
    " i' \\\\ \n",
    " j' \\\\ \n",
    " 1 \n",
    " \\end{bmatrix}, \n",
    " $$\n",
    "\n",
    "gdzie $a$ odpowiada za rozciągnięcie w poziomie, a $b$ w pionie. Przetestuj kod na obrazie \"LENA_512.jpg\" dla:\n",
    "* a = 1, b=2,\n",
    "* a = 0.5, b=0.5,\n",
    "* a = 2, b=1."
   ]
  },
  {
   "cell_type": "code",
   "execution_count": null,
   "metadata": {
    "collapsed": true
   },
   "outputs": [],
   "source": []
  },
  {
   "cell_type": "markdown",
   "metadata": {},
   "source": [
    "## Zadanie 2 (1 punkt)\n",
    "\n",
    "Napisz funkcję wykonującą obroty obrazu \"LENA_512.jpg\". Argumentem takiej funkcji powinien być kąt $\\phi$. \n",
    "\n",
    "Obrót można uzyskać za pomocą przekształcenia:\n",
    "\n",
    "\n",
    "$$ \n",
    "\\begin{bmatrix}\n",
    "i \\\\ \n",
    "j  \n",
    "\\end{bmatrix}\n",
    "= \n",
    "\\begin{bmatrix} \n",
    "\\cos( \\phi ) & \\sin(\\phi) & 0 \\\\\n",
    "- \\sin(\\phi) & cos(\\phi) & 0  \n",
    "\\end{bmatrix} \n",
    "\\begin{bmatrix} \n",
    "i' \\\\ \n",
    "j' \\\\ \n",
    "1 \n",
    "\\end{bmatrix}, \n",
    "$$\n",
    "\n",
    "gdzie $\\phi$ jest kątem obrotu. "
   ]
  },
  {
   "cell_type": "code",
   "execution_count": null,
   "metadata": {
    "collapsed": true
   },
   "outputs": [],
   "source": []
  },
  {
   "cell_type": "markdown",
   "metadata": {},
   "source": [
    "## Zadanie 3 (1 punkt)\n",
    "\n",
    "Wykonaj pochylenie obrazu \"LENA_512.jpg\". Argumentem takiej funkcji powinien być kąt $\\phi$.\n",
    "\n",
    "Pochylenie można uzyskać za pomocą przekształcenia:\n",
    "\n",
    "$$ \n",
    "\\begin{bmatrix} \n",
    "i \\\\ \n",
    "j  \n",
    "\\end{bmatrix}= \n",
    "\\begin{bmatrix} \n",
    "1 & \\tan(\\phi) & 0 \\\\ \n",
    "0 & 1 & 0  \n",
    "\\end{bmatrix} \n",
    "\\begin{bmatrix} \n",
    "i' \\\\ \n",
    "j' \\\\ \n",
    "1 \n",
    "\\end{bmatrix}, \n",
    "$$\n",
    "\n",
    "gdzie $\\phi$ jest kątem pochylenia."
   ]
  },
  {
   "cell_type": "code",
   "execution_count": null,
   "metadata": {
    "collapsed": true
   },
   "outputs": [],
   "source": []
  },
  {
   "cell_type": "markdown",
   "metadata": {},
   "source": [
    "## Zadanie 4 (1 punkt)\n",
    "\n",
    "Wykoaj przekształcenie panoramiczne obrazu \"LENA_512.jpg\".\n",
    "\n",
    "Przekształcenie panoramiczne można uzyskać za pomocą przekształcenia:\n",
    "\n",
    "$$\n",
    "\\begin{bmatrix}\n",
    "i \\\\ \n",
    "j  \n",
    "\\end{bmatrix}= \n",
    "\\begin{bmatrix} \n",
    "a & 0 & 0 \\\\ \n",
    "0 & 1 & 0  \n",
    "\\end{bmatrix} \n",
    "\\begin{bmatrix} \n",
    "i' \\\\ \n",
    "j' \\\\ \n",
    "1 \n",
    "\\end{bmatrix}, \n",
    "$$\n",
    "\n",
    "Panoramiczne przekształcenie poprawia nieprawidłowe proporcje."
   ]
  },
  {
   "cell_type": "code",
   "execution_count": null,
   "metadata": {
    "collapsed": true
   },
   "outputs": [],
   "source": []
  },
  {
   "cell_type": "markdown",
   "metadata": {},
   "source": [
    "## Zadanie 5 (2 punkty)\n",
    "\n",
    "Znajdź macierz przekształcenia liniowego, które przekształca punkty\n",
    "\n",
    "  * (37, 116);\n",
    "  * (37, 256);\n",
    "  * (454, 1);\n",
    "\n",
    "na\n",
    "\n",
    "  * (0, 0);\n",
    "  * (0, img.rows - 1);\n",
    "  * (img.cols - 1, 0);\n",
    "  \n",
    "a następnie proszę przemnożyć taką macierz przez obrazek:\n",
    "\n",
    "![alt](https://raw.githubusercontent.com/przem85/PGiM/master/img/content_car_registration.png)\n",
    "\n",
    "Proszę wyświetlić przekształcony obrazek.\n"
   ]
  },
  {
   "cell_type": "code",
   "execution_count": null,
   "metadata": {
    "collapsed": true
   },
   "outputs": [],
   "source": []
  },
  {
   "cell_type": "markdown",
   "metadata": {},
   "source": [
    "## Zadanie 6 (2 punkty)\n",
    "\n",
    "Wyznacz kontury czarnych kropeczek i narysuj je. Użyj obrazu:\n",
    "\n",
    "![alt](https://raw.githubusercontent.com/przem85/PGiM/master/img/content_circles.png))"
   ]
  },
  {
   "cell_type": "code",
   "execution_count": null,
   "metadata": {
    "collapsed": true
   },
   "outputs": [],
   "source": []
  },
  {
   "cell_type": "markdown",
   "metadata": {
    "collapsed": true
   },
   "source": [
    "# Zadanie 7 (2 punkty)\n",
    "\n",
    "Zaznacz rogi i kąty na obrazie:\n",
    "\n",
    "![alt](https://raw.githubusercontent.com/przem85/PGiM/master/img/corner.png)\n",
    "\n",
    "za pomocą metod:\n",
    "  * Harris Corner Detection\n",
    "  * FAST Corner Detection"
   ]
  },
  {
   "cell_type": "code",
   "execution_count": null,
   "metadata": {
    "collapsed": true
   },
   "outputs": [],
   "source": []
  }
 ],
 "metadata": {
  "kernelspec": {
   "display_name": "Python 3",
   "language": "python",
   "name": "python3"
  },
  "language_info": {
   "codemirror_mode": {
    "name": "ipython",
    "version": 3
   },
   "file_extension": ".py",
   "mimetype": "text/x-python",
   "name": "python",
   "nbconvert_exporter": "python",
   "pygments_lexer": "ipython3",
   "version": "3.10.13"
  }
 },
 "nbformat": 4,
 "nbformat_minor": 2
}
