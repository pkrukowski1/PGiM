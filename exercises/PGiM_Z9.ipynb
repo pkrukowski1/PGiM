{
 "cells": [
  {
   "cell_type": "markdown",
   "metadata": {},
   "source": [
    "# Przetwarzanie Grafiki i Muzyki - laboratorium nr 9: Operacje „Hit-and-Miss” („Hit-or-Miss”)\n",
    "\n",
    "\n",
    "  * Bazowa operacja morfologii matematycznej.\n",
    "  * W notebooku będziemy pracować na elementach strukturalnych, które mają następujące elementy:\n",
    "    * Piksele obiektu ('1')\n",
    "    * Piksele tła ('0')\n",
    "    * Piksele nieokreślone – niebrane pod uwagę ('x')\n",
    "\n",
    "  * Obraz wejściowy jest przeglądany piksel po pikselu, a następnie, jeśli konfiguracja pikseli sąsiednich jest identyczna jak w elemencie strukturalnym (ang. structural element, w skrócie SE), to jest on ustawiany na wartość '1', w przeciwnym przypadku na '0'.\n",
    "  * Aby wykryć daną cechę, wyniki kilku SE mogą się sumować/mnożyć.\n",
    "  \n",
    "  \n",
    "## Hit-or-miss - w skrócie\n",
    "\n",
    "  * Przykładamy środek obiektu strukturalnego do każdego piksela obrazka i jeśli pasuje on do sąsiedztwa danego piksela, to zamieniam piksel na biały, a jeśli nie to na czarny."
   ]
  },
  {
   "cell_type": "markdown",
   "metadata": {},
   "source": [
    "## Zadanie 1 (2 punkty)\n",
    "  * Proszę dokonac binaryzacji obrazu LENA_512 algorytmem Otsu.\n",
    "  * Proszę wykonać operację Hit-or-miss przy pomocy danego elementu strukturalnego:\n",
    "\n",
    "\n",
    "$$\n",
    "\\begin{bmatrix} \n",
    "1 & 1 & 1 \\\\\n",
    "1 & x & 1 \\\\\n",
    "1 & 1 & 1 \\\\\n",
    "\\end{bmatrix} \n",
    "$$\n",
    "\n",
    "Hint: Aby wykonać to zadanie, proszę spojrzeć na dokumentację metody morphologyEx(...) z pakietu OpenCV."
   ]
  },
  {
   "cell_type": "code",
   "execution_count": null,
   "metadata": {
    "collapsed": true
   },
   "outputs": [],
   "source": []
  },
  {
   "cell_type": "markdown",
   "metadata": {},
   "source": [
    "## Operacja pogrubiania – wypukły kształt (convex hull)\n",
    "\n",
    "Naszym celem jest znalezienie wypukłej otoczki obiektów.\n",
    "\n",
    "  * Używanych jest 8 SE:\n",
    "    * 2 wzorcowe:\n",
    "\n",
    "$$\n",
    "\\begin{bmatrix} \n",
    "1 & 1 & x \\\\\n",
    "1 & 0 & x \\\\\n",
    "1 & x & 0 \\\\\n",
    "\\end{bmatrix} \n",
    "$$\n",
    "\n",
    "oraz\n",
    "\n",
    "$$\n",
    "\\begin{bmatrix} \n",
    "x & 1 & 1 \\\\\n",
    "x & 0 & 1 \\\\\n",
    "0 & x & 1\n",
    "\\end{bmatrix} \n",
    "$$\n",
    "  * Po 3 SE z każdego wzorcowego obrócone o 90, 180, 270 stopni.\n",
    "\n",
    "  * Procedura iteracyjna: po osiągnięciu zbieżności kolejne iteracje nie zmieniają wyniku (procedura zatrzymuje się sama)"
   ]
  },
  {
   "cell_type": "markdown",
   "metadata": {},
   "source": [
    "## Zadanie 2 (4 punkty)\n",
    "\n",
    "Proszę zbudować otoczkę wypukłą elementów na https://raw.githubusercontent.com/przem85/PGiM/master/img/convex.png. Proszę pokazać efekty skończonej procedury.\n",
    "\n",
    "HINT: Aby zbudować otoczkę wypukłą na obiekcie, musimy najpierw znaleźć jego kształt!"
   ]
  },
  {
   "cell_type": "code",
   "execution_count": null,
   "metadata": {
    "collapsed": true
   },
   "outputs": [],
   "source": []
  },
  {
   "cell_type": "markdown",
   "metadata": {},
   "source": [
    "# Operacje pocieniania – znajdowanie szkieletu obiektu\n",
    "\n",
    "  * Naszym celem jest znalezienie szkieletu obiektu – linii reprezentujących obiekt.\n",
    "\n",
    "  * iteracyjne zmniejszanie obiektów – 8 SE powstałych z obrotów 2 SE:\n",
    "\n",
    "$$\n",
    "\\begin{bmatrix} \n",
    "1 & 1 & x \\\\\n",
    "1 & 0 & x \\\\\n",
    "1 & x & 0 \\\\\n",
    "\\end{bmatrix} \n",
    "$$\n",
    "\n",
    "oraz\n",
    "\n",
    "$$\n",
    "\\begin{bmatrix} \n",
    "x & 1 & 1 \\\\\n",
    "x & 0 & 1 \\\\\n",
    "0 & x & 1\n",
    "\\end{bmatrix} \n",
    "$$"
   ]
  },
  {
   "cell_type": "markdown",
   "metadata": {},
   "source": [
    "# Zadanie 3 (4 punkty)\n",
    "Proszę zbudować szkielet powyższą metodą na zbinaryzowanych (algorytmem 0tsu) obrazkach (Uwaga: Obrazki poniżej nie są binarne). Proszę wykonać zadanie na dwóch wybranych obrazkach:\n",
    "\n",
    "  * https://raw.githubusercontent.com/przem85/PGiM/master/img/template1.png.\n",
    "  * https://raw.githubusercontent.com/przem85/PGiM/master/img/template2.png.\n",
    "  * https://raw.githubusercontent.com/przem85/PGiM/master/img/template3.png.\n",
    "  * https://raw.githubusercontent.com/przem85/PGiM/master/img/template4.png.\n",
    "  * https://raw.githubusercontent.com/przem85/PGiM/master/img/template5.png.\n",
    "  * https://raw.githubusercontent.com/przem85/PGiM/master/img/template6.png.\n",
    "\n",
    "Proszę pokazać efekty z kilku iteracji.\n",
    "\n",
    "HINT: Proszę rzucić okiem na ten blog http://opencvpython.blogspot.com/2012/05/skeletonization-using-opencv-python.html"
   ]
  },
  {
   "cell_type": "code",
   "execution_count": null,
   "metadata": {
    "collapsed": true
   },
   "outputs": [],
   "source": []
  }
 ],
 "metadata": {
  "kernelspec": {
   "display_name": "Python 3",
   "language": "python",
   "name": "python3"
  },
  "language_info": {
   "codemirror_mode": {
    "name": "ipython",
    "version": 3
   },
   "file_extension": ".py",
   "mimetype": "text/x-python",
   "name": "python",
   "nbconvert_exporter": "python",
   "pygments_lexer": "ipython3",
   "version": "3.5.4"
  }
 },
 "nbformat": 4,
 "nbformat_minor": 2
}
