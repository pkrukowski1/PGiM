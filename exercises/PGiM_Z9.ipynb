{
 "cells": [
  {
   "cell_type": "markdown",
   "metadata": {},
   "source": [
    "# Przetwarzanie Grafiki i Muzyki - laboratorium nr 9: Operacje „Hit-and-Miss” („Hit-or-Miss”)\n",
    "\n",
    "\n",
    "  * Bazowa operacja morfologii matematycznej.\n",
    "  * W notebooku będziemy pracować na elementach strukturalnych, które mają następujące elementy:\n",
    "    * Piksele obiektu ('1')\n",
    "    * Piksele tła ('0')\n",
    "    * Piksele nieokreślone – niebrane pod uwagę ('x')\n",
    "\n",
    "  * Obraz wejściowy jest przeglądany piksel po pikselu, a następnie, jeśli konfiguracja pikseli sąsiednich jest identyczna jak w elemencie strukturalnym (ang. structural element, w skrócie SE), to jest on ustawiany na wartość '1', w przeciwnym przypadku na '0'.\n",
    "  * Aby wykryć daną cechę, wyniki kilku SE mogą się sumować/mnożyć.\n",
    "  \n",
    "  \n",
    "## Hit-or-miss - w skrócie\n",
    "\n",
    "  * Przykładamy środek obiektu strukturalnego do każdego piksela obrazka i jeśli pasuje on do sąsiedztwa danego piksela, to zamieniam piksel na biały, a jeśli nie to na czarny.\n",
    "  * Przydatny link z wyjaśnieniem: https://theailearner.com/tag/hit-or-miss-transformation-opencv/"
   ]
  },
  {
   "cell_type": "markdown",
   "metadata": {},
   "source": [
    "## Zadanie 1 (2 punkty)\n",
    "  * Proszę dokonac binaryzacji obrazu LENA_512 algorytmem Otsu.\n",
    "  * Proszę wykonać operację Hit-or-miss przy pomocy danego elementu strukturalnego:\n",
    "\n",
    "\n",
    "$$\n",
    "\\begin{bmatrix} \n",
    "1 & 1 & 1 \\\\\n",
    "1 & x & 1 \\\\\n",
    "1 & 1 & 1 \\\\\n",
    "\\end{bmatrix} \n",
    "$$\n",
    "\n",
    "Hint: Aby wykonać to zadanie, proszę spojrzeć na dokumentację metody morphologyEx(...) z pakietu OpenCV."
   ]
  },
  {
   "cell_type": "code",
   "execution_count": 2,
   "outputs": [],
   "source": [
    "import cv2\n",
    "import numpy as np\n",
    "import matplotlib.pyplot as plt\n",
    "%matplotlib inline"
   ],
   "metadata": {
    "collapsed": false,
    "ExecuteTime": {
     "end_time": "2024-05-12T20:59:46.086302Z",
     "start_time": "2024-05-12T20:59:43.286278Z"
    }
   }
  },
  {
   "cell_type": "code",
   "execution_count": 6,
   "metadata": {
    "collapsed": true,
    "ExecuteTime": {
     "end_time": "2024-05-12T21:57:40.791454Z",
     "start_time": "2024-05-12T21:57:40.649743Z"
    }
   },
   "outputs": [
    {
     "name": "stderr",
     "output_type": "stream",
     "text": [
      "/var/folders/6t/lw9p33tn1q124mgvz_z7v9gm0000gn/T/ipykernel_3734/1015737056.py:10: DeprecationWarning: NumPy will stop allowing conversion of out-of-bound Python integers to integer arrays.  The conversion of -1 to uint8 will fail in the future.\n",
      "For the old behavior, usually:\n",
      "    np.array(value).astype(dtype)\n",
      "will give the desired result (the cast overflows).\n",
      "  kernel = np.array([[1, 1, 1],\n"
     ]
    }
   ],
   "source": [
    "# myslcie o x jako o -1\n",
    "def binarize_otsu(image):\n",
    "    ycbcr_image = cv2.cvtColor(image, cv2.COLOR_BGR2YCrCb)\n",
    "    flag = cv2.THRESH_BINARY + cv2.THRESH_OTSU\n",
    "    ret, binarized_image = cv2.threshold(ycbcr_image[:,:,0], 0, 255, flag)\n",
    "    return binarized_image\n",
    "\n",
    "\n",
    "def hit_or_miss(image):\n",
    "    image_binarized = binarize_otsu(image)\n",
    "    kernel = np.array([[1, 1, 1],\n",
    "                       [1, -1, 1],\n",
    "                       [1, 1, 1]], dtype=np.uint8)\n",
    "    output_image = cv2.morphologyEx(image_binarized, cv2.MORPH_HITMISS, kernel)\n",
    "    return output_image\n",
    "\n",
    "\n",
    "lena = cv2.imread(\"./img/LENA_512.jpg\", cv2.IMREAD_COLOR)\n",
    "hit_or_miss_lena = hit_or_miss(lena)\n",
    "cv2.imshow(\"lena\", lena)\n",
    "cv2.imshow(\"hit_or_miss_lena\", hit_or_miss_lena)\n",
    "\n",
    "\n",
    "cv2.waitKey(50)\n",
    "cv2.destroyAllWindows()"
   ]
  },
  {
   "cell_type": "markdown",
   "metadata": {},
   "source": [
    ":## Operacja pogrubiania – wypukły kształt (convex hull)\n",
    "\n",
    "Naszym celem jest znalezienie wypukłej otoczki obiektów.\n",
    "\n",
    "  * Używanych jest 8 SE:\n",
    "    * 2 wzorcowe:\n",
    "\n",
    "$$\n",
    "\\begin{bmatrix} \n",
    "1 & 1 & x \\\\\n",
    "1 & 0 & x \\\\\n",
    "1 & x & 0 \\\\\n",
    "\\end{bmatrix} \n",
    "$$\n",
    "\n",
    "oraz\n",
    "\n",
    "$$\n",
    "\\begin{bmatrix} \n",
    "x & 1 & 1 \\\\\n",
    "x & 0 & 1 \\\\\n",
    "0 & x & 1\n",
    "\\end{bmatrix} \n",
    "$$\n",
    "  * Po 3 SE z każdego wzorcowego obrócone o 90, 180, 270 stopni.\n",
    "\n",
    "  * Procedura iteracyjna: po osiągnięciu zbieżności kolejne iteracje nie zmieniają wyniku (procedura zatrzymuje się sama)"
   ]
  },
  {
   "cell_type": "markdown",
   "metadata": {},
   "source": [
    "## Zadanie 2 (4 punkty)\n",
    "\n",
    "Proszę zbudować otoczkę wypukłą elementów na https://raw.githubusercontent.com/przem85/PGiM/master/img/convex.png. Proszę pokazać efekty skończonej procedury.\n",
    "\n",
    "HINT: Aby zbudować otoczkę wypukłą na obiekcie, musimy najpierw znaleźć jego kształt!"
   ]
  },
  {
   "cell_type": "code",
   "execution_count": 13,
   "metadata": {
    "collapsed": true,
    "ExecuteTime": {
     "end_time": "2024-05-12T23:07:02.514823Z",
     "start_time": "2024-05-12T23:07:02.438052Z"
    }
   },
   "outputs": [],
   "source": [
    "# cv2.convexHull\n",
    "# 8 SE tworzy sie automatycznie\n",
    "# w opencv\n",
    "# - wczytac obrazek\n",
    "# - binaryzacja\n",
    "# - findContours\n",
    "# - convexhull\n",
    "\n",
    "def binarize_otsu(image):\n",
    "    ycbcr_image = cv2.cvtColor(image, cv2.COLOR_BGR2YCrCb)\n",
    "    flag = cv2.THRESH_BINARY + cv2.THRESH_OTSU\n",
    "    ret, binarized_image = cv2.threshold(ycbcr_image[:,:,0], 0, 255, flag)\n",
    "    return binarized_image\n",
    "\n",
    "\n",
    "def convex_hull(image):\n",
    "    output_image = np.copy(image)\n",
    "    image_binarized = binarize_otsu(image)\n",
    "    contours, _ = cv2.findContours(image_binarized, cv2.RETR_TREE, cv2.CHAIN_APPROX_SIMPLE)\n",
    "    # https://docs.opencv.org/4.x/d4/d73/tutorial_py_contours_begin.html\n",
    "    cv2.drawContours(output_image, contours, -1, (0,255,0), 3)    \n",
    "    return output_image\n",
    "\n",
    "\n",
    "convex = cv2.imread(\"./img/convex.png\", cv2.IMREAD_COLOR)\n",
    "convex_contours = convex_hull(convex)\n",
    "cv2.imshow(\"convex\", convex)\n",
    "cv2.imshow(\"convex_contours\", convex_contours)\n",
    "\n",
    "\n",
    "cv2.waitKey(50)\n",
    "cv2.destroyAllWindows()"
   ]
  },
  {
   "cell_type": "markdown",
   "metadata": {},
   "source": [
    "# Operacje pocieniania – znajdowanie szkieletu obiektu\n",
    "\n",
    "  * Naszym celem jest znalezienie szkieletu obiektu – linii reprezentujących obiekt.\n",
    "\n",
    "  * iteracyjne zmniejszanie obiektów – 8 SE powstałych z obrotów 2 SE:\n",
    "\n",
    "$$\n",
    "\\begin{bmatrix} \n",
    "1 & 1 & x \\\\\n",
    "1 & 0 & x \\\\\n",
    "1 & x & 0 \\\\\n",
    "\\end{bmatrix} \n",
    "$$\n",
    "\n",
    "oraz\n",
    "\n",
    "$$\n",
    "\\begin{bmatrix} \n",
    "x & 1 & 1 \\\\\n",
    "x & 0 & 1 \\\\\n",
    "0 & x & 1\n",
    "\\end{bmatrix} \n",
    "$$"
   ]
  },
  {
   "cell_type": "markdown",
   "metadata": {},
   "source": [
    "# Zadanie 3 (4 punkty)\n",
    "Proszę zbudować szkielet powyższą metodą na zbinaryzowanych (algorytmem 0tsu) obrazkach (Uwaga: Obrazki poniżej nie są binarne). Proszę wykonać zadanie na dwóch wybranych obrazkach:\n",
    "\n",
    "  * https://raw.githubusercontent.com/przem85/PGiM/master/img/template1.png.\n",
    "  * https://raw.githubusercontent.com/przem85/PGiM/master/img/template2.png.\n",
    "  * https://raw.githubusercontent.com/przem85/PGiM/master/img/template3.png.\n",
    "  * https://raw.githubusercontent.com/przem85/PGiM/master/img/template4.png.\n",
    "  * https://raw.githubusercontent.com/przem85/PGiM/master/img/template5.png.\n",
    "  * https://raw.githubusercontent.com/przem85/PGiM/master/img/template6.png.\n",
    "\n",
    "Proszę pokazać efekty z kilku iteracji.\n",
    "\n",
    "HINT: Proszę rzucić okiem na ten blog http://opencvpython.blogspot.com/2012/05/skeletonization-using-opencv-python.html"
   ]
  },
  {
   "cell_type": "code",
   "execution_count": 18,
   "metadata": {
    "collapsed": true,
    "ExecuteTime": {
     "end_time": "2024-05-12T23:21:03.882600Z",
     "start_time": "2024-05-12T23:21:03.771420Z"
    }
   },
   "outputs": [],
   "source": [
    "def skeleton(image):\n",
    "    _, image = cv2.threshold(image, 127, 255, 0)\n",
    "    element = cv2.getStructuringElement(cv2.MORPH_CROSS,(3,3))\n",
    "    size = np.size(image)\n",
    "    skel = np.zeros(image.shape, dtype=np.uint8)\n",
    "    done = False\n",
    "    while not done:\n",
    "        eroded = cv2.erode(image, element)\n",
    "        temp = cv2.dilate(eroded, element)\n",
    "        temp = cv2.subtract(image, temp)\n",
    "        skel = cv2.bitwise_or(skel, temp)\n",
    "        image = eroded.copy()\n",
    "    \n",
    "        zeros = size - cv2.countNonZero(image)\n",
    "        if zeros == size:\n",
    "            done = True\n",
    "    \n",
    "    return skel\n",
    "\n",
    "template1 = cv2.imread(\"./img/template1.png\", 0)\n",
    "template2 = cv2.imread(\"./img/template2.png\", 0)\n",
    "cv2.imshow(\"template1\", template1)\n",
    "cv2.imshow(\"template2\", template2)\n",
    "\n",
    "skeleton_template1 = skeleton(template1)\n",
    "skeleton_template2 = skeleton(template2)\n",
    "cv2.imshow(\"skeleton_template1\", skeleton_template1)\n",
    "cv2.imshow(\"skeleton_template2\", skeleton_template2)\n",
    "\n",
    "cv2.waitKey(50)\n",
    "cv2.destroyAllWindows()"
   ]
  },
  {
   "cell_type": "code",
   "execution_count": null,
   "outputs": [],
   "source": [],
   "metadata": {
    "collapsed": false
   }
  }
 ],
 "metadata": {
  "kernelspec": {
   "display_name": "Python 3",
   "language": "python",
   "name": "python3"
  },
  "language_info": {
   "codemirror_mode": {
    "name": "ipython",
    "version": 3
   },
   "file_extension": ".py",
   "mimetype": "text/x-python",
   "name": "python",
   "nbconvert_exporter": "python",
   "pygments_lexer": "ipython3",
   "version": "3.5.4"
  }
 },
 "nbformat": 4,
 "nbformat_minor": 2
}
