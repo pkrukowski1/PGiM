{
 "cells": [
  {
   "cell_type": "markdown",
   "metadata": {},
   "source": [
    "# Przetwarzanie Grafiki i Muzyki - laboratorium nr 7"
   ]
  },
  {
   "cell_type": "markdown",
   "metadata": {},
   "source": [
    "## Binaryzacja.\n",
    "\n",
    "Binaryzacja polega na zamianie obrazów monochromatycznych na obrazy binarne. Przekształcenie to jest prawie zawsze wykorzystywane w analizie obrazów, gdyż wiele operacji może być przeprowadzonych wyłącznie na obiektach binarnych."
   ]
  },
  {
   "cell_type": "markdown",
   "metadata": {},
   "source": [
    "## Zadanie 1 (1 punkt)\n",
    "\n",
    "Proszę zaimplementować binaryzację z zadanym poziomem ( a ).\n",
    "\n",
    "$$\n",
    "J(i,j) = \\left\\{ \\begin{array}{ll}\n",
    "0 & \\textrm{gdy } J(i,j)<a \\\\\n",
    "255 & \\textrm{gdy } J(i,j) \\geq a \n",
    "\\end{array} \\right.\n",
    "$$\n",
    "\n",
    "  * Proszę zastosować do zdjęcia \"LENA_512.jpg\". \n",
    "  * Proszę wykonać na Luminancji (składowa Y z formatu YCbCr). "
   ]
  },
  {
   "cell_type": "code",
   "execution_count": null,
   "metadata": {
    "collapsed": true
   },
   "outputs": [],
   "source": []
  },
  {
   "cell_type": "markdown",
   "metadata": {},
   "source": [
    "## Zadanie 2 (1 punkt) \n",
    "\n",
    "Proszę zaimplementować binaryzację z zadanym przedziałem ($[a,b]$):\n",
    "\n",
    "$$\n",
    "J(i,j) = \\left\\{ \\begin{array}{ll}\n",
    "255 & \\textrm{gdy } J(i,j) \\in \\left[a,b\\right] \\\\\n",
    "0 & \\textrm{w przeciwnym przypadku} \n",
    "\\end{array} \\right.\n",
    "$$\n",
    "\n",
    "Zastosuj tę binaryzację do obrazu \"LENA_512.jpg\"."
   ]
  },
  {
   "cell_type": "code",
   "execution_count": null,
   "metadata": {
    "collapsed": true
   },
   "outputs": [],
   "source": []
  },
  {
   "cell_type": "markdown",
   "metadata": {},
   "source": [
    "# Zadanie 3 (2 punkty)\n",
    "\n",
    "Prosze użyć algorytm binaryzacji Otsu do zdjęcia \"gazeta.jpg\". \n",
    "\n",
    "![alt](https://raw.githubusercontent.com/przem85/PGiM/master/img/gazeta.jpg)\n",
    "\n",
    "Proszę wykonać na Luminancji (składowa Y z formatu YCbCr)."
   ]
  },
  {
   "cell_type": "code",
   "execution_count": null,
   "metadata": {
    "collapsed": true
   },
   "outputs": [],
   "source": []
  },
  {
   "cell_type": "markdown",
   "metadata": {},
   "source": [
    "# Zadanie 4 (3 punkty)\n",
    "\n",
    "Proszę zaimplementować algorytm binaryzacji Bernsena. Metoda Bernsena to algorytm wyznaczania progu lokalnego w oparciu o otoczenie piksela (zwykle kwadratowe okno o nieparzystej szerokości). \n",
    "Próg ustawiany jest na wartość średnią najjaśniejszego i najciemniejszego piksela.\n",
    "\n",
    "  * Proszę użyć algorytm binaryzacji Bernsena do zdjęcia \"gazeta.jpg\".\n",
    "  * Proszę wykonać na Luminancji (składowa Y z formatu YCbCr).\n",
    "\n",
    "Algorytm Brensena:\n",
    "1. Przekształcamy oryginalny obrazek do skali szarości. Możemy teraz myśleć o obrazku, jak o pewnej funkcji $I\\left(x,y\\right): \\mathbf{N}^2 \\rightarrow \\mathbf{N}$ (zakładając, że poruszamy się po świecie liczb naturalnych).\n",
    "2. Wokół każdego piksela bierzemy kwadrat o nieparzystej długości $a>0$ i wyliczamy wartość minimalną oraz maksymalną z intensywności pikseli w każdym takim kwadracie. Formalnie, dla każdego punktu $\\left(x,y\\right)\\in\\mathbf{N}^2$ i ustalonego $a>0$ wyliczamy:\n",
    "\n",
    "\\begin{align}\n",
    "  v_{min}\\left(x,y;a\\right) &= \\min{ \\left( I\\left(i,j\\right): x-a \\leq i \\leq x+a, \\quad y-a \\leq j \\leq y+a \\right) } \\\\\n",
    "  v_{max}\\left(x,y;a\\right) &= \\max{ \\left( I\\left(i,j\\right): x-a \\leq i \\leq x+a, \\quad y-a \\leq j \\leq y+a \\right) }\n",
    "\\end{align}\n",
    "3. Dla każdego kwadratu wyliczamy próg $T$ jako $T = \\frac{v_{min}\\left(x,y;a\\right) + v_{max}\\left(x,y;a\\right)}{2}$."
   ]
  },
  {
   "cell_type": "code",
   "execution_count": null,
   "metadata": {
    "collapsed": true
   },
   "outputs": [],
   "source": []
  },
  {
   "cell_type": "markdown",
   "metadata": {},
   "source": [
    "# Zadanie 5 (3 punkty)\n",
    "Progowanie mieszane przebiega podobnie, jak progowanie lokalne (metoda Bernsena), z tym, że jeśli średnia lub mediana lokalna dla danego piksela odbiega o więcej niż ustalony próg (program pobiera tą wartość jako parametr) od wartości globalnej (wyznaczona za pomocą Otsu), piksel progowany jest wartością globalną.\n",
    "\n",
    "  * Prosze użyć algorytm progowania mieszanego do zdjęcia \"gazeta.jpg\".\n",
    "  * Proszę wykonać na Luminancji (składowa Y z formatu YCbCr).\n",
    "\n",
    "  Algorytm progowania mieszanego:\n",
    "  1. Wyznaczamy wartość progu globalnego przy pomocy binaryzacji Otsu. Oznaczmy ten próg jako $P$.\n",
    "  2. Podobnie, jak w algorytmie Brensena, przekształcamy oryginalny obrazek do skali szarości.\n",
    "  3.  Wokół każdego piksela bierzemy kwadrat o nieparzystej długości $a>0$ i wyliczamy wartość minimalną oraz maksymalną z intensywności pikseli w każdym takim kwadracie. Formalnie, dla każdego punktu $\\left(x,y\\right)\\in\\mathbf{N}^2$ i ustalonego $a>0$ wyliczamy:\n",
    "\n",
    "\\begin{align}\n",
    "  v_{min}\\left(x,y;a\\right) &= \\min{ \\left( I\\left(i,j\\right): x-a \\leq i \\leq x+a, \\quad y-a \\leq j \\leq y+a \\right) } \\\\\n",
    "  v_{max}\\left(x,y;a\\right) &= \\max{ \\left( I\\left(i,j\\right): x-a \\leq i \\leq x+a, \\quad y-a \\leq j \\leq y+a \\right) }\n",
    "\\end{align}\n",
    "\n",
    "4. Dla każdego kwadratu wyliczamy próg $T$ jako $T = \\frac{v_{min}\\left(x,y;a\\right) + v_{max}\\left(x,y;a\\right)}{2}$. Jeżeli jednak wartość tak wyliczonego progu $T$ różni się o więcej niż $\\alpha > 0$ (parametr ten powinien być wczytywany jako argument funkcji) od progu globalnego $P$, to wtedy piksel progowany jest wartością globalną. Formalnie, jeśli $\\left| T - \\alpha \\right| > P$, to wtedy jako próg lokalny przyjmujemy próg globalny $P$."
   ]
  },
  {
   "cell_type": "markdown",
   "metadata": {},
   "source": []
  }
 ],
 "metadata": {
  "kernelspec": {
   "display_name": "Python 3",
   "language": "python",
   "name": "python3"
  },
  "language_info": {
   "codemirror_mode": {
    "name": "ipython",
    "version": 3
   },
   "file_extension": ".py",
   "mimetype": "text/x-python",
   "name": "python",
   "nbconvert_exporter": "python",
   "pygments_lexer": "ipython3",
   "version": "3.6.0"
  }
 },
 "nbformat": 4,
 "nbformat_minor": 2
}
