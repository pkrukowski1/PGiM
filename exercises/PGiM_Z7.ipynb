{
 "cells": [
  {
   "cell_type": "markdown",
   "metadata": {},
   "source": [
    "# Przetwarzanie Grafiki i Muzyki - laboratorium nr 7"
   ]
  },
  {
   "cell_type": "code",
   "execution_count": 1,
   "outputs": [],
   "source": [
    "import cv2\n",
    "import numpy as np\n",
    "import matplotlib.pyplot as plt\n",
    "%matplotlib inline"
   ],
   "metadata": {
    "collapsed": false,
    "ExecuteTime": {
     "end_time": "2024-04-28T21:19:54.439Z",
     "start_time": "2024-04-28T21:19:54.060198Z"
    }
   }
  },
  {
   "cell_type": "markdown",
   "metadata": {},
   "source": [
    "## Binaryzacja.\n",
    "\n",
    "Binaryzacja polega na zamianie obrazów monochromatycznych na obrazy binarne. Przekształcenie to jest prawie zawsze wykorzystywane w analizie obrazów, gdyż wiele operacji może być przeprowadzonych wyłącznie na obiektach binarnych."
   ]
  },
  {
   "cell_type": "markdown",
   "metadata": {},
   "source": [
    "## Zadanie 1 (1 punkt)\n",
    "\n",
    "Proszę zaimplementować binaryzację z zadanym poziomem ( a ).\n",
    "\n",
    "$$\n",
    "J(i,j) = \\left\\{ \\begin{array}{ll}\n",
    "0 & \\textrm{gdy } J(i,j)<a \\\\\n",
    "255 & \\textrm{gdy } J(i,j) \\geq a \n",
    "\\end{array} \\right.\n",
    "$$\n",
    "\n",
    "  * Proszę zastosować do zdjęcia \"LENA_512.jpg\". \n",
    "  * Proszę wykonać na Luminancji (składowa Y z formatu YCbCr). "
   ]
  },
  {
   "cell_type": "code",
   "execution_count": 23,
   "metadata": {
    "collapsed": true,
    "ExecuteTime": {
     "end_time": "2024-04-15T13:02:25.281389Z",
     "start_time": "2024-04-15T13:02:25.212561Z"
    }
   },
   "outputs": [
    {
     "name": "stdout",
     "output_type": "stream",
     "text": [
      "[[161 162 163 ... 169 154 127]\n",
      " [162 162 162 ... 171 157 130]\n",
      " [162 162 162 ... 169 156 128]\n",
      " ...\n",
      " [ 44  41  53 ... 102 100 100]\n",
      " [ 43  41  57 ... 104 106 106]\n",
      " [ 44  42  57 ... 102 108 109]]\n",
      "(512, 512, 3)\n",
      "(512, 512)\n",
      "[False False False False False False False False False False False False\n",
      " False False False False False False False False False False False False\n",
      " False False False False False False False False False  True  True  True\n",
      "  True  True  True  True  True  True  True  True  True  True  True  True\n",
      "  True  True  True  True  True  True  True  True  True  True  True  True\n",
      "  True False False False False False False False False False False False\n",
      " False False False False False False False False False False False False\n",
      " False False False False False False False False False False False False\n",
      " False False False False False False False False False False False False\n",
      " False False False False False False False False False False False False\n",
      " False False False False False False False False False False False False\n",
      " False False False False False False False False False False False False\n",
      " False False False False False False False False False False False False\n",
      " False False False False False False False False False False False False\n",
      " False False False False False False False False False False False False\n",
      " False False False False False False False False False False False False\n",
      " False False False False False False False False False False False False\n",
      " False False False False False False False False False False False False\n",
      " False False False False False False False False False False False False\n",
      " False False False False False False False False False False False False\n",
      " False False False False False False False False False False False False\n",
      " False False False False False False False False False False False False\n",
      " False False False False False False False False False False False False\n",
      " False False False False False False False False False False False False\n",
      " False False False False False False False False False False False False\n",
      " False False False False False False False False False False False False\n",
      " False False False False False False False False False False False False\n",
      " False False False False False False False False False False False False\n",
      " False False False False False False False False False False False False\n",
      " False False False False False False False False False False False False\n",
      " False False False False False False False False False False False False\n",
      " False False False False False False False False False False False False\n",
      " False False False False False False False False False False False False\n",
      " False False False False False False False False False False False False\n",
      " False False False False False False False False False False False False\n",
      " False False False False False False False False False False False False\n",
      " False False False False False False False False False False False False\n",
      " False False False False False False False False False False False False\n",
      " False False False False False False False False False False False False\n",
      " False False False False False False False False False False False False\n",
      " False False False False False False False False False False False False\n",
      " False False False False False False False False False False False False\n",
      " False False False False False False False False]\n",
      "[[0 0 0 ... 0 0 0]\n",
      " [0 0 0 ... 0 0 0]\n",
      " [0 0 0 ... 0 0 0]\n",
      " ...\n",
      " [0 0 0 ... 0 0 0]\n",
      " [0 0 0 ... 0 0 0]\n",
      " [0 0 0 ... 0 0 0]]\n"
     ]
    }
   ],
   "source": [
    "def binarize_with_level(image, a):\n",
    "    ycbcr_image = cv2.cvtColor(image, cv2.COLOR_BGR2YCrCb)\n",
    "    height, width, _ = ycbcr_image.shape\n",
    "    binarized_image = np.zeros((height, width)).astype(np.uint8)\n",
    "    mask = np.all(ycbcr_image[:,:,0] >= a, axis=0)\n",
    "    binarized_image[mask] = 255\n",
    "    return binarized_image\n",
    "    \n",
    "\n",
    "a = 100\n",
    "lena = cv2.imread(\"./img/LENA_512.jpg\", cv2.IMREAD_COLOR)\n",
    "binarized_level_lena = binarize_with_level(lena, a)\n",
    "\n",
    "cv2.imshow(\"binarized_level_lena\", binarized_level_lena)\n",
    "\n",
    "cv2.waitKey(50)\n",
    "cv2.destroyAllWindows()"
   ]
  },
  {
   "cell_type": "markdown",
   "metadata": {},
   "source": [
    "## Zadanie 2 (1 punkt) \n",
    "\n",
    "Proszę zaimplementować binaryzację z zadanym przedziałem ($[a,b]$):\n",
    "\n",
    "$$\n",
    "J(i,j) = \\left\\{ \\begin{array}{ll}\n",
    "255 & \\textrm{gdy } J(i,j) \\in \\left[a,b\\right] \\\\\n",
    "0 & \\textrm{w przeciwnym przypadku} \n",
    "\\end{array} \\right.\n",
    "$$\n",
    "\n",
    "Zastosuj tę binaryzację do obrazu \"LENA_512.jpg\"."
   ]
  },
  {
   "cell_type": "code",
   "execution_count": 24,
   "metadata": {
    "collapsed": true,
    "ExecuteTime": {
     "end_time": "2024-04-15T13:04:02.368498Z",
     "start_time": "2024-04-15T13:04:02.295923Z"
    }
   },
   "outputs": [],
   "source": [
    "def binarize_with_range(image, a, b):\n",
    "    ycbcr_image = cv2.cvtColor(image, cv2.COLOR_BGR2YCrCb)\n",
    "    height, width, _ = ycbcr_image.shape\n",
    "    binarized_image = np.zeros((height, width)).astype(np.uint8)\n",
    "    mask = np.all((ycbcr_image[:,:,0] >= a, ycbcr_image[:,:,0] <= b), axis=0)\n",
    "    binarized_image[mask] = 255\n",
    "    return binarized_image\n",
    "\n",
    "a = 100\n",
    "b = 150\n",
    "lena = cv2.imread(\"./img/LENA_512.jpg\", cv2.IMREAD_COLOR)\n",
    "binarized_range_lena = binarize_with_range(lena, a, b)\n",
    "\n",
    "cv2.imshow(\"binarized_range_lena\", binarized_range_lena)\n",
    "\n",
    "cv2.waitKey(50)\n",
    "cv2.destroyAllWindows()"
   ]
  },
  {
   "cell_type": "markdown",
   "metadata": {},
   "source": [
    "# Zadanie 3 (2 punkty)\n",
    "\n",
    "Prosze użyć algorytm binaryzacji Otsu do zdjęcia \"gazeta.jpg\". \n",
    "\n",
    "![alt](https://raw.githubusercontent.com/przem85/PGiM/master/img/gazeta.jpg)\n",
    "\n",
    "Proszę wykonać na Luminancji (składowa Y z formatu YCbCr)."
   ]
  },
  {
   "cell_type": "code",
   "execution_count": 35,
   "metadata": {
    "collapsed": true,
    "ExecuteTime": {
     "end_time": "2024-04-15T13:14:19.354374Z",
     "start_time": "2024-04-15T13:14:19.289038Z"
    }
   },
   "outputs": [],
   "source": [
    "# binaryzacja Otsu:\n",
    "# 1. obliczenie histogramu na grayscale - histogram musi być bimodalny (musi mieć dwa peaki)\n",
    "#   jeden z peaków reprezentuje wartości obiektu, ktory chcemy znaleźć\n",
    "#   drugi peak reprezentuje tło\n",
    "#   trzeba znalezc próg, który oddzieli jeden peak od drugiego\n",
    "# 2. znajdowanie progu\n",
    "#   a. minimalizacja wariancji wewnątrzklasowej\n",
    "#   sigma_w(T) = w_1(T) * sigma^2_1 (T) + w_2(T) * sigma^2_2(T)\n",
    "#   w_1(T) = P(Y = 1) = P(i nalezy do {0,1,...,T}) = sum_j=0^T P(j)\n",
    "#   w_2(T) = P(Y = 2) = P(i nalezy do {T+1,...,i_max}) = sum_j=T+1^i_max P(j)\n",
    "#    - prawdopodobieństwo, że piksele należą do klasy nr 1/2 dla jakiegoś progu T\n",
    "#   mi_1(T) = wartosc oczekiwana (i | Y = 1) = sum_j=0^T j * P(i = j | Y = 1) = sum_j=0^T j * P(i = j, Y = 1) / P (Y = 1) =\n",
    "#    = sum \n",
    "# ...\n",
    "\n",
    "\n",
    "def binarize_otsu(image):\n",
    "    ycbcr_image = cv2.cvtColor(image, cv2.COLOR_BGR2YCrCb)\n",
    "    flag = cv2.THRESH_BINARY + cv2.THRESH_OTSU\n",
    "    ret, binarized_image = cv2.threshold(ycbcr_image[:,:,0], 0, 255, flag)\n",
    "    return binarized_image\n",
    "\n",
    "lena = cv2.imread(\"./img/LENA_512.jpg\", cv2.IMREAD_COLOR)\n",
    "binarized_otsu_lena = binarize_otsu(lena)\n",
    "\n",
    "cv2.imshow(\"binarized_otsu_lena\", binarized_otsu_lena)\n",
    "\n",
    "cv2.waitKey(50)\n",
    "cv2.destroyAllWindows()"
   ]
  },
  {
   "cell_type": "markdown",
   "metadata": {},
   "source": [
    "# Zadanie 4 (3 punkty)\n",
    "\n",
    "Proszę zaimplementować algorytm binaryzacji Bernsena. Metoda Bernsena to algorytm wyznaczania progu lokalnego w oparciu o otoczenie piksela (zwykle kwadratowe okno o nieparzystej szerokości). \n",
    "Próg ustawiany jest na wartość średnią najjaśniejszego i najciemniejszego piksela.\n",
    "\n",
    "  * Proszę użyć algorytm binaryzacji Bernsena do zdjęcia \"gazeta.jpg\".\n",
    "  * Proszę wykonać na Luminancji (składowa Y z formatu YCbCr).\n",
    "\n",
    "Algorytm Brensena:\n",
    "1. Przekształcamy oryginalny obrazek do skali szarości. Możemy teraz myśleć o obrazku, jak o pewnej funkcji $I\\left(x,y\\right): \\mathbf{N}^2 \\rightarrow \\mathbf{N}$ (zakładając, że poruszamy się po świecie liczb naturalnych).\n",
    "2. Wokół każdego piksela bierzemy kwadrat o nieparzystej długości $a>0$ i wyliczamy wartość minimalną oraz maksymalną z intensywności pikseli w każdym takim kwadracie. Formalnie, dla każdego punktu $\\left(x,y\\right)\\in\\mathbf{N}^2$ i ustalonego $a>0$ wyliczamy:\n",
    "\n",
    "\\begin{align}\n",
    "  v_{min}\\left(x,y;a\\right) &= \\min{ \\left( I\\left(i,j\\right): x-a \\leq i \\leq x+a, \\quad y-a \\leq j \\leq y+a \\right) } \\\\\n",
    "  v_{max}\\left(x,y;a\\right) &= \\max{ \\left( I\\left(i,j\\right): x-a \\leq i \\leq x+a, \\quad y-a \\leq j \\leq y+a \\right) }\n",
    "\\end{align}\n",
    "3. Dla każdego kwadratu wyliczamy próg $T$ jako $T = \\frac{v_{min}\\left(x,y;a\\right) + v_{max}\\left(x,y;a\\right)}{2}$."
   ]
  },
  {
   "cell_type": "code",
   "execution_count": 6,
   "metadata": {
    "collapsed": true,
    "ExecuteTime": {
     "end_time": "2024-04-28T21:21:30.374362Z",
     "start_time": "2024-04-28T21:21:30.080045Z"
    }
   },
   "outputs": [
    {
     "name": "stderr",
     "output_type": "stream",
     "text": [
      "/var/folders/6t/lw9p33tn1q124mgvz_z7v9gm0000gn/T/ipykernel_4261/2949165266.py:33: RuntimeWarning: overflow encountered in scalar add\n",
      "  threshold = (min_val + max_val) // 2\n"
     ]
    }
   ],
   "source": [
    "# 1. obrazek do grayscale\n",
    "# 2. dla kazdej intensywnosci piklsela _i_ bierzemy kwadrat i wyliczamy min oraz max\n",
    "# 3. \n",
    "# przyklad:\n",
    "#     1 2 3 4    \n",
    "#     4 3 2 1 \n",
    "#     2 3 1 2    \n",
    "#     4 1 1 1\n",
    "# \n",
    "#     1 2 3 | 4\n",
    "#     4 3 2 | 1  -> liczymy v_min i v_max z kazdego takiego kwadratu, nawet jak wychodzi poza obrazek\n",
    "#     2 3 1 | 2     prog to T = (v_min + v_max) / 2\n",
    "#     -------\n",
    "#     4 1 1 1\n",
    "\n",
    "\n",
    "\n",
    "def binarize_bernsen(image, window_size = 5):\n",
    "    ycbcr_image = cv2.cvtColor(image, cv2.COLOR_BGR2YCrCb)\n",
    "    gray_channel = ycbcr_image[:,:,0]\n",
    "    binarized_image = np.zeros_like(gray_channel, dtype=np.uint8)\n",
    "    rows, cols = binarized_image.shape\n",
    "\n",
    "    for i in range(rows):\n",
    "        for j in range(cols):\n",
    "            row_begin = max(0, i - window_size // 2)\n",
    "            row_end = min(rows, i + window_size // 2 + 1)\n",
    "            col_begin = max(0, j - window_size // 2)\n",
    "            col_end = min(cols, j + window_size // 2 + 1)\n",
    "\n",
    "            min_val = np.min(ycbcr_image[row_begin:row_end, col_begin:col_end])\n",
    "            max_val = np.max(ycbcr_image[row_begin:row_end, col_begin:col_end])\n",
    "            threshold = (min_val + max_val) // 2\n",
    "\n",
    "            if gray_channel[i, j] > threshold:\n",
    "                binarized_image[i, j] = 255\n",
    "            else:\n",
    "                binarized_image[i, j] = 0\n",
    "\n",
    "    return binarized_image\n",
    "\n",
    "\n",
    "gazeta = cv2.imread(\"./img/gazeta.jpg\", cv2.IMREAD_COLOR)\n",
    "bernsen_binarized_gazeta = binarize_bernsen(gazeta, 5)\n",
    "\n",
    "cv2.imshow(\"original gazeta\", gazeta)\n",
    "cv2.imshow(\"bernsen binarized gazeta\", bernsen_binarized_gazeta)\n",
    "\n",
    "cv2.waitKey(50)\n",
    "cv2.destroyAllWindows()"
   ]
  },
  {
   "cell_type": "markdown",
   "metadata": {},
   "source": [
    "# Zadanie 5 (3 punkty)\n",
    "Progowanie mieszane przebiega podobnie, jak progowanie lokalne (metoda Bernsena), z tym, że jeśli średnia lub mediana lokalna dla danego piksela odbiega o więcej niż ustalony próg (program pobiera tą wartość jako parametr) od wartości globalnej (wyznaczona za pomocą Otsu), piksel progowany jest wartością globalną.\n",
    "\n",
    "  * Prosze użyć algorytm progowania mieszanego do zdjęcia \"gazeta.jpg\".\n",
    "  * Proszę wykonać na Luminancji (składowa Y z formatu YCbCr).\n",
    "\n",
    "  Algorytm progowania mieszanego:\n",
    "  1. Wyznaczamy wartość progu globalnego przy pomocy binaryzacji Otsu. Oznaczmy ten próg jako $P$.\n",
    "  2. Podobnie, jak w algorytmie Brensena, przekształcamy oryginalny obrazek do skali szarości.\n",
    "  3.  Wokół każdego piksela bierzemy kwadrat o nieparzystej długości $a>0$ i wyliczamy wartość minimalną oraz maksymalną z intensywności pikseli w każdym takim kwadracie. Formalnie, dla każdego punktu $\\left(x,y\\right)\\in\\mathbf{N}^2$ i ustalonego $a>0$ wyliczamy:\n",
    "\n",
    "\\begin{align}\n",
    "  v_{min}\\left(x,y;a\\right) &= \\min{ \\left( I\\left(i,j\\right): x-a \\leq i \\leq x+a, \\quad y-a \\leq j \\leq y+a \\right) } \\\\\n",
    "  v_{max}\\left(x,y;a\\right) &= \\max{ \\left( I\\left(i,j\\right): x-a \\leq i \\leq x+a, \\quad y-a \\leq j \\leq y+a \\right) }\n",
    "\\end{align}\n",
    "\n",
    "4. Dla każdego kwadratu wyliczamy próg $T$ jako $T = \\frac{v_{min}\\left(x,y;a\\right) + v_{max}\\left(x,y;a\\right)}{2}$. Jeżeli jednak wartość tak wyliczonego progu $T$ różni się o więcej niż $\\alpha > 0$ (parametr ten powinien być wczytywany jako argument funkcji) od progu globalnego $P$, to wtedy piksel progowany jest wartością globalną. Formalnie, jeśli $\\left| T - \\alpha \\right| > P$, to wtedy jako próg lokalny przyjmujemy próg globalny $P$."
   ]
  },
  {
   "cell_type": "code",
   "execution_count": 9,
   "outputs": [
    {
     "name": "stderr",
     "output_type": "stream",
     "text": [
      "/var/folders/6t/lw9p33tn1q124mgvz_z7v9gm0000gn/T/ipykernel_4261/3782581073.py:18: RuntimeWarning: overflow encountered in scalar add\n",
      "  local_threshold = (local_min + local_max) // 2\n"
     ]
    }
   ],
   "source": [
    "def binarize_mixed(image, alpha, window_size = 5):\n",
    "    ycbcr_image = cv2.cvtColor(image, cv2.COLOR_BGR2YCrCb)\n",
    "    gray_channel = ycbcr_image[:,:,0]\n",
    "    flag = cv2.THRESH_BINARY + cv2.THRESH_OTSU\n",
    "    global_threshold, _ = cv2.threshold(gray_channel, 0, 255, flag)\n",
    "    binarized_image = np.zeros_like(gray_channel, dtype=np.uint8)\n",
    "    rows, cols = binarized_image.shape\n",
    "\n",
    "    for i in range(rows):\n",
    "        for j in range(cols):\n",
    "            row_start = max(0, i - window_size // 2)\n",
    "            row_end = min(rows, i + window_size // 2 + 1)\n",
    "            col_start = max(0, j - window_size // 2)\n",
    "            col_end = min(cols, j + window_size // 2 + 1)\n",
    "\n",
    "            local_min = np.min(image[row_start:row_end, col_start:col_end])\n",
    "            local_max = np.max(image[row_start:row_end, col_start:col_end])\n",
    "            local_threshold = (local_min + local_max) // 2\n",
    "\n",
    "            if abs(local_threshold - alpha) > global_threshold:\n",
    "                local_threshold = global_threshold\n",
    "                \n",
    "            if gray_channel[i, j] > local_threshold:\n",
    "                binarized_image[i, j] = 255\n",
    "            else:\n",
    "                binarized_image[i, j] = 0\n",
    "\n",
    "    return binarized_image\n",
    "\n",
    "\n",
    "gazeta = cv2.imread(\"./img/gazeta.jpg\", cv2.IMREAD_COLOR)\n",
    "mixed_binarized_gazeta = binarize_mixed(gazeta, 20)\n",
    "\n",
    "cv2.imshow(\"original gazeta\", gazeta)\n",
    "cv2.imshow(\"mixed binarized gazeta\", mixed_binarized_gazeta)\n",
    "\n",
    "cv2.waitKey(50)\n",
    "cv2.destroyAllWindows()"
   ],
   "metadata": {
    "collapsed": false,
    "ExecuteTime": {
     "end_time": "2024-04-28T21:34:19.927698Z",
     "start_time": "2024-04-28T21:34:19.607314Z"
    }
   }
  },
  {
   "cell_type": "code",
   "execution_count": null,
   "outputs": [],
   "source": [],
   "metadata": {
    "collapsed": false
   }
  }
 ],
 "metadata": {
  "kernelspec": {
   "display_name": "Python 3",
   "language": "python",
   "name": "python3"
  },
  "language_info": {
   "codemirror_mode": {
    "name": "ipython",
    "version": 3
   },
   "file_extension": ".py",
   "mimetype": "text/x-python",
   "name": "python",
   "nbconvert_exporter": "python",
   "pygments_lexer": "ipython3",
   "version": "3.6.0"
  }
 },
 "nbformat": 4,
 "nbformat_minor": 2
}
